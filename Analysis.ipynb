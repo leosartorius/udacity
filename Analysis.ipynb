{
 "cells": [
  {
   "cell_type": "markdown",
   "metadata": {},
   "source": [
    "# End of module project\n",
    "PART 1 - Analysis of the data\n",
    "\n",
    "Uses the tennis matches results data between 2020 and 2022 from http://tennis-data.co.uk/alldata.php\n",
    "\n"
   ]
  },
  {
   "cell_type": "code",
   "execution_count": 3,
   "metadata": {},
   "outputs": [
    {
     "data": {
      "text/html": [
       "<div>\n",
       "<style scoped>\n",
       "    .dataframe tbody tr th:only-of-type {\n",
       "        vertical-align: middle;\n",
       "    }\n",
       "\n",
       "    .dataframe tbody tr th {\n",
       "        vertical-align: top;\n",
       "    }\n",
       "\n",
       "    .dataframe thead th {\n",
       "        text-align: right;\n",
       "    }\n",
       "</style>\n",
       "<table border=\"1\" class=\"dataframe\">\n",
       "  <thead>\n",
       "    <tr style=\"text-align: right;\">\n",
       "      <th></th>\n",
       "      <th>ATP</th>\n",
       "      <th>Location</th>\n",
       "      <th>Tournament</th>\n",
       "      <th>Date</th>\n",
       "      <th>Series</th>\n",
       "      <th>Court</th>\n",
       "      <th>Surface</th>\n",
       "      <th>Round</th>\n",
       "      <th>Best of</th>\n",
       "      <th>Winner</th>\n",
       "      <th>...</th>\n",
       "      <th>Lsets</th>\n",
       "      <th>Comment</th>\n",
       "      <th>B365W</th>\n",
       "      <th>B365L</th>\n",
       "      <th>PSW</th>\n",
       "      <th>PSL</th>\n",
       "      <th>MaxW</th>\n",
       "      <th>MaxL</th>\n",
       "      <th>AvgW</th>\n",
       "      <th>AvgL</th>\n",
       "    </tr>\n",
       "  </thead>\n",
       "  <tbody>\n",
       "    <tr>\n",
       "      <th>0</th>\n",
       "      <td>1</td>\n",
       "      <td>Doha</td>\n",
       "      <td>Qatar Exxon Mobil Open</td>\n",
       "      <td>1/6/2020</td>\n",
       "      <td>ATP250</td>\n",
       "      <td>Outdoor</td>\n",
       "      <td>Hard</td>\n",
       "      <td>1st Round</td>\n",
       "      <td>3</td>\n",
       "      <td>Bublik A.</td>\n",
       "      <td>...</td>\n",
       "      <td>0.0</td>\n",
       "      <td>Completed</td>\n",
       "      <td>2.00</td>\n",
       "      <td>1.72</td>\n",
       "      <td>2.21</td>\n",
       "      <td>1.74</td>\n",
       "      <td>2.25</td>\n",
       "      <td>1.80</td>\n",
       "      <td>2.11</td>\n",
       "      <td>1.72</td>\n",
       "    </tr>\n",
       "    <tr>\n",
       "      <th>1</th>\n",
       "      <td>1</td>\n",
       "      <td>Doha</td>\n",
       "      <td>Qatar Exxon Mobil Open</td>\n",
       "      <td>1/6/2020</td>\n",
       "      <td>ATP250</td>\n",
       "      <td>Outdoor</td>\n",
       "      <td>Hard</td>\n",
       "      <td>1st Round</td>\n",
       "      <td>3</td>\n",
       "      <td>Moutet C.</td>\n",
       "      <td>...</td>\n",
       "      <td>0.0</td>\n",
       "      <td>Completed</td>\n",
       "      <td>1.57</td>\n",
       "      <td>2.25</td>\n",
       "      <td>1.60</td>\n",
       "      <td>2.47</td>\n",
       "      <td>1.65</td>\n",
       "      <td>2.47</td>\n",
       "      <td>1.59</td>\n",
       "      <td>2.34</td>\n",
       "    </tr>\n",
       "    <tr>\n",
       "      <th>2</th>\n",
       "      <td>1</td>\n",
       "      <td>Doha</td>\n",
       "      <td>Qatar Exxon Mobil Open</td>\n",
       "      <td>1/6/2020</td>\n",
       "      <td>ATP250</td>\n",
       "      <td>Outdoor</td>\n",
       "      <td>Hard</td>\n",
       "      <td>1st Round</td>\n",
       "      <td>3</td>\n",
       "      <td>Verdasco F.</td>\n",
       "      <td>...</td>\n",
       "      <td>0.0</td>\n",
       "      <td>Completed</td>\n",
       "      <td>1.25</td>\n",
       "      <td>3.75</td>\n",
       "      <td>1.31</td>\n",
       "      <td>3.74</td>\n",
       "      <td>1.33</td>\n",
       "      <td>3.85</td>\n",
       "      <td>1.29</td>\n",
       "      <td>3.53</td>\n",
       "    </tr>\n",
       "    <tr>\n",
       "      <th>3</th>\n",
       "      <td>1</td>\n",
       "      <td>Doha</td>\n",
       "      <td>Qatar Exxon Mobil Open</td>\n",
       "      <td>1/6/2020</td>\n",
       "      <td>ATP250</td>\n",
       "      <td>Outdoor</td>\n",
       "      <td>Hard</td>\n",
       "      <td>1st Round</td>\n",
       "      <td>3</td>\n",
       "      <td>Bedene A.</td>\n",
       "      <td>...</td>\n",
       "      <td>1.0</td>\n",
       "      <td>Completed</td>\n",
       "      <td>1.83</td>\n",
       "      <td>1.83</td>\n",
       "      <td>1.97</td>\n",
       "      <td>1.92</td>\n",
       "      <td>2.00</td>\n",
       "      <td>2.07</td>\n",
       "      <td>1.87</td>\n",
       "      <td>1.92</td>\n",
       "    </tr>\n",
       "    <tr>\n",
       "      <th>4</th>\n",
       "      <td>1</td>\n",
       "      <td>Doha</td>\n",
       "      <td>Qatar Exxon Mobil Open</td>\n",
       "      <td>1/6/2020</td>\n",
       "      <td>ATP250</td>\n",
       "      <td>Outdoor</td>\n",
       "      <td>Hard</td>\n",
       "      <td>1st Round</td>\n",
       "      <td>3</td>\n",
       "      <td>Chardy J.</td>\n",
       "      <td>...</td>\n",
       "      <td>1.0</td>\n",
       "      <td>Completed</td>\n",
       "      <td>1.50</td>\n",
       "      <td>2.50</td>\n",
       "      <td>1.54</td>\n",
       "      <td>2.62</td>\n",
       "      <td>1.57</td>\n",
       "      <td>2.65</td>\n",
       "      <td>1.53</td>\n",
       "      <td>2.47</td>\n",
       "    </tr>\n",
       "  </tbody>\n",
       "</table>\n",
       "<p>5 rows × 36 columns</p>\n",
       "</div>"
      ],
      "text/plain": [
       "   ATP Location              Tournament      Date  Series    Court Surface  \\\n",
       "0    1     Doha  Qatar Exxon Mobil Open  1/6/2020  ATP250  Outdoor    Hard   \n",
       "1    1     Doha  Qatar Exxon Mobil Open  1/6/2020  ATP250  Outdoor    Hard   \n",
       "2    1     Doha  Qatar Exxon Mobil Open  1/6/2020  ATP250  Outdoor    Hard   \n",
       "3    1     Doha  Qatar Exxon Mobil Open  1/6/2020  ATP250  Outdoor    Hard   \n",
       "4    1     Doha  Qatar Exxon Mobil Open  1/6/2020  ATP250  Outdoor    Hard   \n",
       "\n",
       "       Round  Best of       Winner  ... Lsets    Comment  B365W  B365L   PSW  \\\n",
       "0  1st Round        3    Bublik A.  ...   0.0  Completed   2.00   1.72  2.21   \n",
       "1  1st Round        3    Moutet C.  ...   0.0  Completed   1.57   2.25  1.60   \n",
       "2  1st Round        3  Verdasco F.  ...   0.0  Completed   1.25   3.75  1.31   \n",
       "3  1st Round        3    Bedene A.  ...   1.0  Completed   1.83   1.83  1.97   \n",
       "4  1st Round        3    Chardy J.  ...   1.0  Completed   1.50   2.50  1.54   \n",
       "\n",
       "    PSL  MaxW  MaxL  AvgW  AvgL  \n",
       "0  1.74  2.25  1.80  2.11  1.72  \n",
       "1  2.47  1.65  2.47  1.59  2.34  \n",
       "2  3.74  1.33  3.85  1.29  3.53  \n",
       "3  1.92  2.00  2.07  1.87  1.92  \n",
       "4  2.62  1.57  2.65  1.53  2.47  \n",
       "\n",
       "[5 rows x 36 columns]"
      ]
     },
     "execution_count": 3,
     "metadata": {},
     "output_type": "execute_result"
    }
   ],
   "source": [
    "# do the imports\n",
    "import numpy as np\n",
    "import pandas as pd\n",
    "import matplotlib.pyplot as plt\n",
    "from sklearn.linear_model import LinearRegression\n",
    "from sklearn.model_selection import train_test_split\n",
    "from sklearn.ensemble import RandomForestRegressor\n",
    "from sklearn.metrics import r2_score, mean_squared_error\n",
    "%matplotlib inline\n",
    "\n",
    "# read data file\n",
    "df = pd.read_csv('./2020-2022.csv')\n",
    "df.head()"
   ]
  },
  {
   "cell_type": "code",
   "execution_count": 4,
   "metadata": {},
   "outputs": [
    {
     "name": "stdout",
     "output_type": "stream",
     "text": [
      "Drop NA on AvgW, AvgL, WRank, LRank:  15  rows dropped\n",
      "Drop dubious odds:  10  rows dropped\n"
     ]
    }
   ],
   "source": [
    "# drop the lines where there are no data in AvgW, AvgL, WRank or LRank\n",
    "# we could use one of the existing odds (other than average) but given the limited number of lines dropped it's no issue\n",
    "# for the ranks on the other hand we really need to have both players' rank (to compare) so we drop the line where one is missing\n",
    "# hence dropping the lines for AvgW and AvgL is more simple too\n",
    "numels = df.shape[0]\n",
    "df = df.dropna(subset=['AvgW','AvgL','WRank','LRank'],axis=0)\n",
    "print('Drop NA on AvgW, AvgL, WRank, LRank: ',numels-df.shape[0],' rows dropped')\n",
    "\n",
    "# drop the lines where AvgW ou AvgL are dubious (more than 50% away from B365W / B365L)\n",
    "# means there could be a mistake in either one (again, very limited number of rows)\n",
    "numels = df.shape[0]\n",
    "df = df.drop(df[df['AvgW']>1.5*df['B365W']].index,axis=0)\n",
    "df = df.drop(df[df['AvgL']>1.5*df['B365L']].index,axis=0)\n",
    "print('Drop dubious odds: ',numels-df.shape[0],' rows dropped')\n",
    "\n",
    "df = df.reset_index(drop=True)\n",
    "\n",
    "# compute delta rank (difference between winner and loser ranks)\n",
    "df['DeltaRank'] = df['WRank']-df['LRank']"
   ]
  },
  {
   "cell_type": "markdown",
   "metadata": {},
   "source": [
    "## 0. How reliable are the odds?"
   ]
  },
  {
   "cell_type": "code",
   "execution_count": 11,
   "metadata": {},
   "outputs": [],
   "source": [
    "def getOddsResult(df,diff):\n",
    "    res = diff.copy()\n",
    "    i=0\n",
    "    for d in diff:\n",
    "        df2 = df[abs(df['AvgL']-df['AvgW'])>d]\n",
    "        ok = df2[df2['AvgW']<df2['AvgL']]\n",
    "        res[i] = ok.size/df2.size*100\n",
    "        i=i+1\n",
    "    return(res)"
   ]
  },
  {
   "cell_type": "code",
   "execution_count": 13,
   "metadata": {},
   "outputs": [],
   "source": [
    "# odds are ok if winner's was lower than loser's\n",
    "# check results for all data\n",
    "diff = [0,0.1,0.2,0.3,0.4,0.5,1,2,3,4,5]\n",
    "res = getOddsResult(df,diff)\n",
    "# check results for ATP250 tournaments\n",
    "res250 = getOddsResult(df[df['Series']==\"ATP250\"],diff)\n",
    "# check results for ATP500 tournaments\n",
    "res500 = getOddsResult(df[df['Series']==\"ATP500\"],diff)\n",
    "# check results for Masters 1000 tournaments\n",
    "res1000 = getOddsResult(df[df['Series']==\"Masters 1000\"],diff)\n",
    "# check results for Grand Slam tournaments\n",
    "resGS = getOddsResult(df[df['Series']==\"Grand Slam\"],diff)"
   ]
  },
  {
   "cell_type": "code",
   "execution_count": 14,
   "metadata": {},
   "outputs": [
    {
     "data": {
      "image/png": "[encoded data removed]",
      "text/plain": [
       "<Figure size 432x288 with 1 Axes>"
      ]
     },
     "metadata": {
      "needs_background": "light"
     },
     "output_type": "display_data"
    }
   ],
   "source": [
    "# show the results: rate of good prediction rate as a function of difference between odds\n",
    "plt.plot(diff,res,color = 'red',label='All')\n",
    "plt.plot(diff,res250,color = 'blue',label='ATP 250')\n",
    "plt.plot(diff,res500,color = 'green',label='ATP 500')\n",
    "plt.plot(diff,res1000,color = 'purple',label='M 1000')\n",
    "plt.plot(diff,resGS,color = 'orange',label='GS')\n",
    "plt.xlabel(\"Delta between W and L odds\")\n",
    "plt.ylabel(\"% of good prediction\")\n",
    "plt.legend()\n",
    "plt.show()"
   ]
  },
  {
   "cell_type": "markdown",
   "metadata": {},
   "source": [
    "Grand Slams stand clearly above the rest in terms of reliability of win prediction considering only the odds. This seems to be in accordance with classical expectations, as Grand Slams are the most important tournaments of the year and players really get ready for those."
   ]
  },
  {
   "cell_type": "code",
   "execution_count": 12,
   "metadata": {},
   "outputs": [
    {
     "data": {
      "image/png": "[encoded data removed]",
      "text/plain": [
       "<Figure size 432x288 with 1 Axes>"
      ]
     },
     "metadata": {
      "needs_background": "light"
     },
     "output_type": "display_data"
    }
   ],
   "source": [
    "# check repartition of matches depending on difference in odds\n",
    "subdf = df[abs(df['AvgL']-df['AvgW'])<=5]\n",
    "plt.hist(abs(subdf['AvgL']-subdf['AvgW']),bins=50,cumulative=True,density=True)\n",
    "plt.show()"
   ]
  },
  {
   "cell_type": "markdown",
   "metadata": {},
   "source": [
    "### Focus on Grand slams tournaments (by round)"
   ]
  },
  {
   "cell_type": "code",
   "execution_count": 15,
   "metadata": {},
   "outputs": [
    {
     "name": "stderr",
     "output_type": "stream",
     "text": [
      "C:\\Users\\to200472\\AppData\\Local\\Temp\\ipykernel_4676\\745194328.py:7: RuntimeWarning: invalid value encountered in long_scalars\n",
      "  res[i] = ok.size/df2.size*100\n"
     ]
    }
   ],
   "source": [
    "#  sdf -> GRand Slam tournaments\n",
    "sdf = df[df['Series']==\"Grand Slam\"]\n",
    "\n",
    "# check results for 1st round\n",
    "resGS1 = getOddsResult(sdf[sdf['Round']==\"1st Round\"],diff)\n",
    "# check results for 2nd Round\n",
    "resGS2 = getOddsResult(sdf[sdf['Round']==\"2nd Round\"],diff)\n",
    "# check results for 3rd Round\n",
    "resGS3 = getOddsResult(sdf[sdf['Round']==\"3rd Round\"],diff)\n",
    "# check results for 4th Round\n",
    "resGS4 = getOddsResult(sdf[sdf['Round']==\"4th Round\"],diff)\n",
    "# check results for Quarterfinals\n",
    "resGS5 = getOddsResult(sdf[sdf['Round']==\"Quarterfinals\"],diff)\n",
    "# check results for Semifinals\n",
    "resGS6 = getOddsResult(sdf[sdf['Round']==\"Semifinals\"],diff)\n",
    "# check results for The Final\n",
    "resGS7 = getOddsResult(sdf[sdf['Round']==\"The Final\"],diff)"
   ]
  },
  {
   "cell_type": "code",
   "execution_count": 16,
   "metadata": {},
   "outputs": [
    {
     "data": {
      "image/png": "[encoded data removed]",
      "text/plain": [
       "<Figure size 432x288 with 1 Axes>"
      ]
     },
     "metadata": {
      "needs_background": "light"
     },
     "output_type": "display_data"
    }
   ],
   "source": [
    "# plot the results\n",
    "plt.plot(diff,resGS1,color = 'red',label='1st')\n",
    "plt.plot(diff,resGS2,color = 'blue',label='2nd')\n",
    "plt.plot(diff,resGS3,color = 'green',label='3rd')\n",
    "plt.plot(diff,resGS4,color = 'purple',label='4th')\n",
    "plt.plot(diff,resGS5,color = 'orange',label=\"Quarter\")\n",
    "plt.plot(diff,resGS6,color = 'black',label='Semi')\n",
    "plt.plot(diff,resGS7,color = 'gray',label='Final')\n",
    "plt.xlabel(\"Delta between W and L odds\")\n",
    "plt.ylabel(\"% of good prediction\")\n",
    "plt.legend()\n",
    "plt.show()"
   ]
  },
  {
   "cell_type": "markdown",
   "metadata": {},
   "source": [
    "Interestingly, we can notice then reliability is better from quarterfinals onwards, and first round is globally the less reliable (which seems logical)"
   ]
  },
  {
   "cell_type": "markdown",
   "metadata": {},
   "source": [
    "### Grand Slams -> gains by match and by round"
   ]
  },
  {
   "cell_type": "markdown",
   "metadata": {},
   "source": [
    "ALL MATCHES -> Simulate the gains if one was betting always according to the odds for each round"
   ]
  },
  {
   "cell_type": "code",
   "execution_count": 20,
   "metadata": {},
   "outputs": [],
   "source": [
    "def getOddsGain(df,bet):\n",
    "    gain = 0\n",
    "    for i in df.index:\n",
    "        if df['AvgW'][i]>df['AvgL'][i]:\n",
    "            gain = gain+bet*(df['AvgW'][i]-1)\n",
    "        else:\n",
    "            gain = gain-bet\n",
    "    return(gain,gain/df.shape[0])"
   ]
  },
  {
   "cell_type": "code",
   "execution_count": 25,
   "metadata": {},
   "outputs": [
    {
     "name": "stdout",
     "output_type": "stream",
     "text": [
      "Gains in 1st Round :  -872.6000000000004  - gain by match:  -1.7211045364891526\n",
      "Gains in 2nd Round :  -511.4000000000001  - gain by match:  -2.0293650793650797\n",
      "Gains in 3rd Round :  -137.3  - gain by match:  -1.0811023622047244\n",
      "Gains in 4th Round :  -55.60000000000001  - gain by match:  -0.8825396825396826\n",
      "Gains in Quarterfinals :  -119.10000000000001  - gain by match:  -3.7218750000000003\n",
      "Gains in Semifinals :  -110.7  - gain by match:  -6.91875\n",
      "Gains in The Final :  -24.0  - gain by match:  -3.0\n"
     ]
    }
   ],
   "source": [
    "# check results for all rounds\n",
    "rounds = [\"1st Round\",\"2nd Round\",\"3rd Round\",\"4th Round\",\"Quarterfinals\",\"Semifinals\",\"The Final\"]\n",
    "for round in rounds:\n",
    "    gain,gainbymatch = getOddsGain(sdf[sdf['Round']==round],10)\n",
    "    print(\"Gains in\",round,\": \",gain,\" - gain by match: \",gainbymatch)"
   ]
  },
  {
   "cell_type": "markdown",
   "metadata": {},
   "source": [
    "SELECTED MATCHES -> Simulate the gains if one was betting always according to the odds for each round\n",
    "here selection is betting on top 10 players when their oppoentn is lower ranked"
   ]
  },
  {
   "cell_type": "code",
   "execution_count": 27,
   "metadata": {},
   "outputs": [
    {
     "name": "stdout",
     "output_type": "stream",
     "text": [
      "win: 61  average odds: 1.085081967213115\n",
      "loss: 5  average odds: 5.388\n",
      "investment: 660  gain: 1.90000000000002  ROI: 0.2878787878787909\n",
      "win: 59  average odds: 1.0901694915254236\n",
      "loss: 1  average odds: 4.54\n",
      "investment: 600  gain: 43.20000000000002  ROI: 7.200000000000002\n",
      "win: 51  average odds: 1.2090196078431374\n",
      "loss: 10  average odds: 3.8389999999999995\n",
      "investment: 610  gain: 6.6000000000000085  ROI: 1.0819672131147555\n",
      "win: 37  average odds: 1.212162162162162\n",
      "loss: 11  average odds: 4.3563636363636355\n",
      "investment: 480  gain: -31.5  ROI: -6.5625\n",
      "win: 23  average odds: 1.2817391304347827\n",
      "loss: 5  average odds: 2.728\n",
      "investment: 280  gain: 14.800000000000011  ROI: 5.28571428571429\n",
      "win: 16  average odds: 1.444375\n",
      "loss: 0  average odds: nan\n",
      "investment: 160  gain: 71.09999999999998  ROI: 44.437499999999986\n",
      "win: 5  average odds: 1.394\n",
      "loss: 3  average odds: 2.4266666666666663\n",
      "investment: 80  gain: -10.299999999999997  ROI: -12.874999999999998\n"
     ]
    }
   ],
   "source": [
    "thr = 10 # threshold for players ranking - 10 means we consider top 10 players\n",
    "delta = 0 # delta is the ranking difference with the player's opponent - 0 means any player with higher ranking\n",
    "series = \"Grand Slam\" # the type of tournament we consider\n",
    "\n",
    "round = [\"1st Round\",\"2nd Round\",\"3rd Round\",\"4th Round\",\"Quarterfinals\",\"Semifinals\",\"The Final\"] \n",
    "gains = [0,0,0,0,0,0,0]\n",
    "gainspermatch = [0,0,0,0,0,0,0]\n",
    "roi = [0,0,0,0,0,0,0]\n",
    "k=0\n",
    "for r in round:\n",
    "    subdf = df.loc[((df['WRank']<=thr) & (df['LRank']>df['WRank']+delta) & (df['Series']==series) & (df['Round']==r))]\n",
    "    subdf = subdf.reset_index(drop=True)\n",
    "\n",
    "    gain = 0\n",
    "    nmatch = subdf.shape[0]\n",
    "    print(\"win:\",nmatch,\" average odds:\",subdf['AvgW'].mean())\n",
    "    for i in range(subdf.shape[0]):\n",
    "        gain = gain+10*(subdf['AvgW'][i]-1)\n",
    "\n",
    "    subdf = df.loc[((df['LRank']<=thr) & (df['WRank']>df['LRank']+delta) & (df['Series']==series) & (df['Round']==r))]\n",
    "    print(\"loss:\",subdf.shape[0],\" average odds:\",subdf['AvgW'].mean())\n",
    "    nmatch = nmatch+subdf.shape[0]\n",
    "    gain = gain-10*subdf.shape[0]\n",
    "    \n",
    "    gains[k] = gain\n",
    "    gainspermatch[k] = gain/nmatch\n",
    "    roi[k] = gain/(nmatch*10)*100\n",
    "    print(\"investment:\",nmatch*10,\" gain:\",gain,\" ROI:\",roi[k])\n",
    "    k=k+1"
   ]
  },
  {
   "cell_type": "code",
   "execution_count": 28,
   "metadata": {},
   "outputs": [
    {
     "data": {
      "image/png": "[encoded data removed]",
      "text/plain": [
       "<Figure size 720x432 with 1 Axes>"
      ]
     },
     "metadata": {
      "needs_background": "light"
     },
     "output_type": "display_data"
    }
   ],
   "source": [
    "plt.rcParams['figure.figsize'] = [10, 6]\n",
    "# show total gains per round in grand slams for top 10 players against theoretically weakest players\n",
    "plt.bar(round,gains)\n",
    "plt.ylabel(\"Gains for 10$ bet on each game (GS, top 10 vs higher rank)\")\n",
    "plt.show()"
   ]
  },
  {
   "cell_type": "markdown",
   "metadata": {},
   "source": [
    "The data indicates that highest gains are made when betting with the odds in 2nd round and Semifinals. In 2nd round, top 10 players are generally opposed to much higher ranked players (ranked 50-100), explaining why the odds are lower than in semifinals where top 10 players are expected and therefore playing against each others, reason why the odds are higher and gains as well (despite the fact there are only 2 semifinals per tournament, compared to normally 10 matches in 2nd round for top 10 players)"
   ]
  },
  {
   "cell_type": "code",
   "execution_count": 29,
   "metadata": {},
   "outputs": [
    {
     "data": {
      "image/png": "[encoded data removed]",
      "text/plain": [
       "<Figure size 720x432 with 1 Axes>"
      ]
     },
     "metadata": {
      "needs_background": "light"
     },
     "output_type": "display_data"
    }
   ],
   "source": [
    "plt.bar(round,gainspermatch)\n",
    "# show gain per match per round in grand slams for top 10 players against theoretically weakest players\n",
    "plt.ylabel(\"Gains per match for 10$ bet on each game (GS, top 10 vs higher rank)\")\n",
    "plt.show()"
   ]
  },
  {
   "cell_type": "markdown",
   "metadata": {},
   "source": [
    "For the reasons explained above, this data shows clearly confirms that the gain per match is much higher for semifinals than 2nd round."
   ]
  },
  {
   "cell_type": "code",
   "execution_count": 30,
   "metadata": {},
   "outputs": [
    {
     "data": {
      "image/png": "[encoded data removed]",
      "text/plain": [
       "<Figure size 720x432 with 1 Axes>"
      ]
     },
     "metadata": {
      "needs_background": "light"
     },
     "output_type": "display_data"
    }
   ],
   "source": [
    "plt.bar(round,roi)\n",
    "# show return on investment per round in grand slams for top 10 players against theoretically weakest players\n",
    "plt.ylabel(\"Return on investment in % (GS, top 10 vs higher rank)\")\n",
    "plt.show()"
   ]
  },
  {
   "cell_type": "markdown",
   "metadata": {},
   "source": [
    "Considering the return on investment, it seems that semifinals are the best solution. However the risk is higher since there are less matches than in 2nd round for instance. The ROI is lower in 2nd round because of the lower odds, but the impact of one wrong bet is probably lower in the longer term."
   ]
  }
 ],
 "metadata": {
  "kernelspec": {
   "display_name": "Python 3",
   "language": "python",
   "name": "python3"
  },
  "language_info": {
   "codemirror_mode": {
    "name": "ipython",
    "version": 3
   },
   "file_extension": ".py",
   "mimetype": "text/x-python",
   "name": "python",
   "nbconvert_exporter": "python",
   "pygments_lexer": "ipython3",
   "version": "3.10.3"
  }
 },
 "nbformat": 4,
 "nbformat_minor": 4
}
