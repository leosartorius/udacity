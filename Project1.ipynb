{
 "cells": [
  {
   "cell_type": "markdown",
   "metadata": {},
   "source": [
    "# End of module project\n",
    "\n",
    "Uses the tennis matches results data between 2020 and 2022 from http://tennis-data.co.uk/alldata.php\n",
    "\n"
   ]
  },
  {
   "cell_type": "code",
   "execution_count": 1,
   "metadata": {},
   "outputs": [
    {
     "data": {
      "text/html": [
       "<div>\n",
       "<style scoped>\n",
       "    .dataframe tbody tr th:only-of-type {\n",
       "        vertical-align: middle;\n",
       "    }\n",
       "\n",
       "    .dataframe tbody tr th {\n",
       "        vertical-align: top;\n",
       "    }\n",
       "\n",
       "    .dataframe thead th {\n",
       "        text-align: right;\n",
       "    }\n",
       "</style>\n",
       "<table border=\"1\" class=\"dataframe\">\n",
       "  <thead>\n",
       "    <tr style=\"text-align: right;\">\n",
       "      <th></th>\n",
       "      <th>ATP</th>\n",
       "      <th>Location</th>\n",
       "      <th>Tournament</th>\n",
       "      <th>Date</th>\n",
       "      <th>Series</th>\n",
       "      <th>Court</th>\n",
       "      <th>Surface</th>\n",
       "      <th>Round</th>\n",
       "      <th>Best of</th>\n",
       "      <th>Winner</th>\n",
       "      <th>...</th>\n",
       "      <th>Lsets</th>\n",
       "      <th>Comment</th>\n",
       "      <th>B365W</th>\n",
       "      <th>B365L</th>\n",
       "      <th>PSW</th>\n",
       "      <th>PSL</th>\n",
       "      <th>MaxW</th>\n",
       "      <th>MaxL</th>\n",
       "      <th>AvgW</th>\n",
       "      <th>AvgL</th>\n",
       "    </tr>\n",
       "  </thead>\n",
       "  <tbody>\n",
       "    <tr>\n",
       "      <th>0</th>\n",
       "      <td>1</td>\n",
       "      <td>Doha</td>\n",
       "      <td>Qatar Exxon Mobil Open</td>\n",
       "      <td>1/6/2020</td>\n",
       "      <td>ATP250</td>\n",
       "      <td>Outdoor</td>\n",
       "      <td>Hard</td>\n",
       "      <td>1st Round</td>\n",
       "      <td>3</td>\n",
       "      <td>Bublik A.</td>\n",
       "      <td>...</td>\n",
       "      <td>0.0</td>\n",
       "      <td>Completed</td>\n",
       "      <td>2.00</td>\n",
       "      <td>1.72</td>\n",
       "      <td>2.21</td>\n",
       "      <td>1.74</td>\n",
       "      <td>2.25</td>\n",
       "      <td>1.80</td>\n",
       "      <td>2.11</td>\n",
       "      <td>1.72</td>\n",
       "    </tr>\n",
       "    <tr>\n",
       "      <th>1</th>\n",
       "      <td>1</td>\n",
       "      <td>Doha</td>\n",
       "      <td>Qatar Exxon Mobil Open</td>\n",
       "      <td>1/6/2020</td>\n",
       "      <td>ATP250</td>\n",
       "      <td>Outdoor</td>\n",
       "      <td>Hard</td>\n",
       "      <td>1st Round</td>\n",
       "      <td>3</td>\n",
       "      <td>Moutet C.</td>\n",
       "      <td>...</td>\n",
       "      <td>0.0</td>\n",
       "      <td>Completed</td>\n",
       "      <td>1.57</td>\n",
       "      <td>2.25</td>\n",
       "      <td>1.60</td>\n",
       "      <td>2.47</td>\n",
       "      <td>1.65</td>\n",
       "      <td>2.47</td>\n",
       "      <td>1.59</td>\n",
       "      <td>2.34</td>\n",
       "    </tr>\n",
       "    <tr>\n",
       "      <th>2</th>\n",
       "      <td>1</td>\n",
       "      <td>Doha</td>\n",
       "      <td>Qatar Exxon Mobil Open</td>\n",
       "      <td>1/6/2020</td>\n",
       "      <td>ATP250</td>\n",
       "      <td>Outdoor</td>\n",
       "      <td>Hard</td>\n",
       "      <td>1st Round</td>\n",
       "      <td>3</td>\n",
       "      <td>Verdasco F.</td>\n",
       "      <td>...</td>\n",
       "      <td>0.0</td>\n",
       "      <td>Completed</td>\n",
       "      <td>1.25</td>\n",
       "      <td>3.75</td>\n",
       "      <td>1.31</td>\n",
       "      <td>3.74</td>\n",
       "      <td>1.33</td>\n",
       "      <td>3.85</td>\n",
       "      <td>1.29</td>\n",
       "      <td>3.53</td>\n",
       "    </tr>\n",
       "    <tr>\n",
       "      <th>3</th>\n",
       "      <td>1</td>\n",
       "      <td>Doha</td>\n",
       "      <td>Qatar Exxon Mobil Open</td>\n",
       "      <td>1/6/2020</td>\n",
       "      <td>ATP250</td>\n",
       "      <td>Outdoor</td>\n",
       "      <td>Hard</td>\n",
       "      <td>1st Round</td>\n",
       "      <td>3</td>\n",
       "      <td>Bedene A.</td>\n",
       "      <td>...</td>\n",
       "      <td>1.0</td>\n",
       "      <td>Completed</td>\n",
       "      <td>1.83</td>\n",
       "      <td>1.83</td>\n",
       "      <td>1.97</td>\n",
       "      <td>1.92</td>\n",
       "      <td>2.00</td>\n",
       "      <td>2.07</td>\n",
       "      <td>1.87</td>\n",
       "      <td>1.92</td>\n",
       "    </tr>\n",
       "    <tr>\n",
       "      <th>4</th>\n",
       "      <td>1</td>\n",
       "      <td>Doha</td>\n",
       "      <td>Qatar Exxon Mobil Open</td>\n",
       "      <td>1/6/2020</td>\n",
       "      <td>ATP250</td>\n",
       "      <td>Outdoor</td>\n",
       "      <td>Hard</td>\n",
       "      <td>1st Round</td>\n",
       "      <td>3</td>\n",
       "      <td>Chardy J.</td>\n",
       "      <td>...</td>\n",
       "      <td>1.0</td>\n",
       "      <td>Completed</td>\n",
       "      <td>1.50</td>\n",
       "      <td>2.50</td>\n",
       "      <td>1.54</td>\n",
       "      <td>2.62</td>\n",
       "      <td>1.57</td>\n",
       "      <td>2.65</td>\n",
       "      <td>1.53</td>\n",
       "      <td>2.47</td>\n",
       "    </tr>\n",
       "  </tbody>\n",
       "</table>\n",
       "<p>5 rows × 36 columns</p>\n",
       "</div>"
      ],
      "text/plain": [
       "   ATP Location              Tournament      Date  Series    Court Surface  \\\n",
       "0    1     Doha  Qatar Exxon Mobil Open  1/6/2020  ATP250  Outdoor    Hard   \n",
       "1    1     Doha  Qatar Exxon Mobil Open  1/6/2020  ATP250  Outdoor    Hard   \n",
       "2    1     Doha  Qatar Exxon Mobil Open  1/6/2020  ATP250  Outdoor    Hard   \n",
       "3    1     Doha  Qatar Exxon Mobil Open  1/6/2020  ATP250  Outdoor    Hard   \n",
       "4    1     Doha  Qatar Exxon Mobil Open  1/6/2020  ATP250  Outdoor    Hard   \n",
       "\n",
       "       Round  Best of       Winner  ... Lsets    Comment  B365W  B365L   PSW  \\\n",
       "0  1st Round        3    Bublik A.  ...   0.0  Completed   2.00   1.72  2.21   \n",
       "1  1st Round        3    Moutet C.  ...   0.0  Completed   1.57   2.25  1.60   \n",
       "2  1st Round        3  Verdasco F.  ...   0.0  Completed   1.25   3.75  1.31   \n",
       "3  1st Round        3    Bedene A.  ...   1.0  Completed   1.83   1.83  1.97   \n",
       "4  1st Round        3    Chardy J.  ...   1.0  Completed   1.50   2.50  1.54   \n",
       "\n",
       "    PSL  MaxW  MaxL  AvgW  AvgL  \n",
       "0  1.74  2.25  1.80  2.11  1.72  \n",
       "1  2.47  1.65  2.47  1.59  2.34  \n",
       "2  3.74  1.33  3.85  1.29  3.53  \n",
       "3  1.92  2.00  2.07  1.87  1.92  \n",
       "4  2.62  1.57  2.65  1.53  2.47  \n",
       "\n",
       "[5 rows x 36 columns]"
      ]
     },
     "execution_count": 1,
     "metadata": {},
     "output_type": "execute_result"
    }
   ],
   "source": [
    "import numpy as np\n",
    "import pandas as pd\n",
    "import matplotlib.pyplot as plt\n",
    "from sklearn.linear_model import LinearRegression\n",
    "from sklearn.model_selection import train_test_split\n",
    "from sklearn.ensemble import RandomForestRegressor\n",
    "from sklearn.metrics import r2_score, mean_squared_error\n",
    "%matplotlib inline\n",
    "\n",
    "df = pd.read_csv('./2020-2022.csv')\n",
    "df.head()"
   ]
  },
  {
   "cell_type": "code",
   "execution_count": 2,
   "metadata": {},
   "outputs": [
    {
     "name": "stdout",
     "output_type": "stream",
     "text": [
      "(4354, 36)\n",
      "(4339, 36)\n",
      "(4329, 36)\n"
     ]
    }
   ],
   "source": [
    "print(df.shape)\n",
    "# drop the lines where there are no data in AvgW, AvgL, WRank or LRank\n",
    "df = df.dropna(subset=['AvgW','AvgL','WRank','LRank'],axis=0)\n",
    "print(df.shape)\n",
    "# drop the lines where AvgW ou AvgL are dubious (more than 50% away from B365W / B365L)\n",
    "df = df.drop(df[df['AvgW']>1.5*df['B365W']].index,axis=0)\n",
    "df = df.drop(df[df['AvgL']>1.5*df['B365L']].index,axis=0)\n",
    "print(df.shape)\n",
    "\n",
    "df = df.reset_index(drop=True)\n",
    "# compute delta rank\n",
    "df['DeltaRank'] = df['WRank']-df['LRank']"
   ]
  },
  {
   "cell_type": "markdown",
   "metadata": {},
   "source": [
    "## 0. How reliable are the odds?"
   ]
  },
  {
   "cell_type": "code",
   "execution_count": 3,
   "metadata": {},
   "outputs": [],
   "source": [
    "# odds are ok if winner's was lower than loser's\n",
    "diff = [0,0.1,0.2,0.3,0.4,0.5,1,2,3,4,5]\n",
    "res = [0,0.1,0.2,0.3,0.4,0.5,1,2,3,4,5]\n",
    "i=0\n",
    "for d in diff:\n",
    "    df2 = df[abs(df['AvgL']-df['AvgW'])>d]\n",
    "    ok = df2[df2['AvgW']<df2['AvgL']]\n",
    "    res[i] = ok.size/df2.size*100\n",
    "    i=i+1"
   ]
  },
  {
   "cell_type": "code",
   "execution_count": 4,
   "metadata": {},
   "outputs": [],
   "source": [
    "# do the same but for ATP250 tournaments\n",
    "subdf = df[df['Series']==\"ATP250\"]\n",
    "res250 = [0,0.1,0.2,0.3,0.4,0.5,1,2,3,4,5]\n",
    "i=0\n",
    "for d in diff:\n",
    "    df2 = subdf[abs(subdf['AvgL']-subdf['AvgW'])>d]\n",
    "    ok = df2[df2['AvgW']<df2['AvgL']]\n",
    "    res250[i] = ok.size/df2.size*100\n",
    "    i=i+1"
   ]
  },
  {
   "cell_type": "code",
   "execution_count": 5,
   "metadata": {},
   "outputs": [],
   "source": [
    "# do the same but for ATP500 tournaments\n",
    "subdf = df[df['Series']==\"ATP500\"]\n",
    "res500 = [0,0.1,0.2,0.3,0.4,0.5,1,2,3,4,5]\n",
    "i=0\n",
    "for d in diff:\n",
    "    df2 = subdf[abs(subdf['AvgL']-subdf['AvgW'])>d]\n",
    "    ok = df2[df2['AvgW']<df2['AvgL']]\n",
    "    res500[i] = ok.size/df2.size*100\n",
    "    i=i+1"
   ]
  },
  {
   "cell_type": "code",
   "execution_count": 6,
   "metadata": {},
   "outputs": [],
   "source": [
    "# do the same but for Masters 1000 tournaments\n",
    "subdf = df[df['Series']==\"Masters 1000\"]\n",
    "res1000 = [0,0.1,0.2,0.3,0.4,0.5,1,2,3,4,5]\n",
    "i=0\n",
    "for d in diff:\n",
    "    df2 = subdf[abs(subdf['AvgL']-subdf['AvgW'])>d]\n",
    "    ok = df2[df2['AvgW']<df2['AvgL']]\n",
    "    res1000[i] = ok.size/df2.size*100\n",
    "    i=i+1"
   ]
  },
  {
   "cell_type": "code",
   "execution_count": 7,
   "metadata": {},
   "outputs": [],
   "source": [
    "# do the same but for Grand Slam tournaments\n",
    "subdf = df[df['Series']==\"Grand Slam\"]\n",
    "resGS = [0,0.1,0.2,0.3,0.4,0.5,1,2,3,4,5]\n",
    "i=0\n",
    "for d in diff:\n",
    "    df2 = subdf[abs(subdf['AvgL']-subdf['AvgW'])>d]\n",
    "    ok = df2[df2['AvgW']<df2['AvgL']]\n",
    "    resGS[i] = ok.size/df2.size*100\n",
    "    i=i+1"
   ]
  },
  {
   "cell_type": "code",
   "execution_count": 8,
   "metadata": {},
   "outputs": [
    {
     "data": {
      "image/png": "[encoded data removed]",
      "text/plain": [
       "<Figure size 432x288 with 1 Axes>"
      ]
     },
     "metadata": {
      "needs_background": "light"
     },
     "output_type": "display_data"
    }
   ],
   "source": [
    "\n",
    "plt.plot(diff,res,color = 'red',label='All')\n",
    "plt.plot(diff,res250,color = 'blue',label='ATP 250')\n",
    "plt.plot(diff,res500,color = 'green',label='ATP 500')\n",
    "plt.plot(diff,res1000,color = 'purple',label='M 1000')\n",
    "plt.plot(diff,resGS,color = 'orange',label='GS')\n",
    "plt.xlabel(\"Delta between W and L odds\")\n",
    "plt.ylabel(\"% of good prediction\")\n",
    "plt.legend()\n",
    "plt.show()"
   ]
  },
  {
   "cell_type": "code",
   "execution_count": 9,
   "metadata": {},
   "outputs": [
    {
     "data": {
      "image/png": "[encoded data removed]",
      "text/plain": [
       "<Figure size 432x288 with 1 Axes>"
      ]
     },
     "metadata": {
      "needs_background": "light"
     },
     "output_type": "display_data"
    }
   ],
   "source": [
    "subdf = df[abs(df['AvgL']-df['AvgW'])<=5]\n",
    "plt.hist(abs(subdf['AvgL']-subdf['AvgW']),bins=50,cumulative=True,density=True)\n",
    "plt.show()"
   ]
  },
  {
   "cell_type": "markdown",
   "metadata": {},
   "source": [
    "### Grand slams per round"
   ]
  },
  {
   "cell_type": "code",
   "execution_count": 10,
   "metadata": {},
   "outputs": [],
   "source": [
    "#  GRand Slam tournaments\n",
    "sdf = df[df['Series']==\"Grand Slam\"]\n",
    "subdf = sdf[sdf['Round']==\"1st Round\"]\n",
    "resGS1 = [0,0.1,0.2,0.3,0.4,0.5,1,2,3,4,5]\n",
    "i=0\n",
    "for d in diff:\n",
    "    df2 = subdf[abs(subdf['AvgL']-subdf['AvgW'])>d]\n",
    "    ok = df2[df2['AvgW']<df2['AvgL']]\n",
    "    resGS1[i] = ok.size/df2.size*100\n",
    "    i=i+1"
   ]
  },
  {
   "cell_type": "code",
   "execution_count": 11,
   "metadata": {},
   "outputs": [],
   "source": [
    "subdf = sdf[sdf['Round']==\"2nd Round\"]\n",
    "resGS2 = [0,0.1,0.2,0.3,0.4,0.5,1,2,3,4,5]\n",
    "i=0\n",
    "for d in diff:\n",
    "    df2 = subdf[abs(subdf['AvgL']-subdf['AvgW'])>d]\n",
    "    ok = df2[df2['AvgW']<df2['AvgL']]\n",
    "    resGS2[i] = ok.size/df2.size*100\n",
    "    i=i+1"
   ]
  },
  {
   "cell_type": "code",
   "execution_count": 12,
   "metadata": {},
   "outputs": [],
   "source": [
    "subdf = sdf[sdf['Round']==\"3rd Round\"]\n",
    "resGS3 = [0,0.1,0.2,0.3,0.4,0.5,1,2,3,4,5]\n",
    "i=0\n",
    "for d in diff:\n",
    "    df2 = subdf[abs(subdf['AvgL']-subdf['AvgW'])>d]\n",
    "    ok = df2[df2['AvgW']<df2['AvgL']]\n",
    "    resGS3[i] = ok.size/df2.size*100\n",
    "    i=i+1"
   ]
  },
  {
   "cell_type": "code",
   "execution_count": 13,
   "metadata": {},
   "outputs": [],
   "source": [
    "subdf = sdf[sdf['Round']==\"4th Round\"]\n",
    "resGS4 = [0,0.1,0.2,0.3,0.4,0.5,1,2,3,4,5]\n",
    "i=0\n",
    "for d in diff:\n",
    "    df2 = subdf[abs(subdf['AvgL']-subdf['AvgW'])>d]\n",
    "    ok = df2[df2['AvgW']<df2['AvgL']]\n",
    "    resGS4[i] = ok.size/df2.size*100\n",
    "    i=i+1"
   ]
  },
  {
   "cell_type": "code",
   "execution_count": 14,
   "metadata": {},
   "outputs": [],
   "source": [
    "subdf = sdf[sdf['Round']==\"Quarterfinals\"]\n",
    "resGS5 = [0,0.1,0.2,0.3,0.4,0.5,1,2,3,4,5]\n",
    "i=0\n",
    "for d in diff:\n",
    "    df2 = subdf[abs(subdf['AvgL']-subdf['AvgW'])>d]\n",
    "    ok = df2[df2['AvgW']<df2['AvgL']]\n",
    "    resGS5[i] = ok.size/df2.size*100\n",
    "    i=i+1"
   ]
  },
  {
   "cell_type": "code",
   "execution_count": 15,
   "metadata": {},
   "outputs": [],
   "source": [
    "subdf = sdf[sdf['Round']==\"Semifinals\"]\n",
    "resGS6 = [0,0.1,0.2,0.3,0.4,0.5,1,2,3,4,5]\n",
    "i=0\n",
    "for d in diff:\n",
    "    df2 = subdf[abs(subdf['AvgL']-subdf['AvgW'])>d]\n",
    "    ok = df2[df2['AvgW']<df2['AvgL']]\n",
    "    resGS6[i] = ok.size/df2.size*100\n",
    "    i=i+1"
   ]
  },
  {
   "cell_type": "code",
   "execution_count": 16,
   "metadata": {},
   "outputs": [
    {
     "name": "stderr",
     "output_type": "stream",
     "text": [
      "<ipython-input-16-4298a525bb0f>:7: RuntimeWarning: invalid value encountered in long_scalars\n",
      "  resGS7[i] = ok.size/df2.size*100\n"
     ]
    }
   ],
   "source": [
    "subdf = sdf[sdf['Round']==\"The Final\"]\n",
    "resGS7 = [0,0.1,0.2,0.3,0.4,0.5,1,2,3,4,5]\n",
    "i=0\n",
    "for d in diff:\n",
    "    df2 = subdf[abs(subdf['AvgL']-subdf['AvgW'])>d]\n",
    "    ok = df2[df2['AvgW']<df2['AvgL']]\n",
    "    resGS7[i] = ok.size/df2.size*100\n",
    "    i=i+1"
   ]
  },
  {
   "cell_type": "code",
   "execution_count": 17,
   "metadata": {},
   "outputs": [
    {
     "data": {
      "image/png": "[encoded data removed]",
      "text/plain": [
       "<Figure size 432x288 with 1 Axes>"
      ]
     },
     "metadata": {
      "needs_background": "light"
     },
     "output_type": "display_data"
    }
   ],
   "source": [
    "plt.plot(diff,resGS1,color = 'red',label='1st')\n",
    "plt.plot(diff,resGS2,color = 'blue',label='2nd')\n",
    "plt.plot(diff,resGS3,color = 'green',label='3rd')\n",
    "plt.plot(diff,resGS4,color = 'purple',label='4th')\n",
    "plt.plot(diff,resGS5,color = 'orange',label=\"Quarter\")\n",
    "plt.plot(diff,resGS6,color = 'black',label='Semi')\n",
    "plt.plot(diff,resGS7,color = 'gray',label='Final')\n",
    "plt.xlabel(\"Delta between W and L odds\")\n",
    "plt.ylabel(\"% of good prediction\")\n",
    "plt.legend()\n",
    "plt.show()"
   ]
  },
  {
   "cell_type": "markdown",
   "metadata": {},
   "source": [
    "### GS gain by match and by round"
   ]
  },
  {
   "cell_type": "code",
   "execution_count": 18,
   "metadata": {},
   "outputs": [
    {
     "name": "stdout",
     "output_type": "stream",
     "text": [
      "-1.7211045364891526\n"
     ]
    }
   ],
   "source": [
    "subdf = sdf[sdf['Round']==\"1st Round\"]\n",
    "subdf = subdf.reset_index(drop=True)\n",
    "\n",
    "gain = 0\n",
    "for i in range(subdf.shape[0]):\n",
    "    if subdf['AvgW'][i]>subdf['AvgL'][i]:\n",
    "        gain = gain+10*(subdf['AvgW'][i]-1)\n",
    "    else:\n",
    "        gain = gain-10\n",
    "print(gain/subdf.shape[0])"
   ]
  },
  {
   "cell_type": "code",
   "execution_count": 19,
   "metadata": {},
   "outputs": [
    {
     "name": "stdout",
     "output_type": "stream",
     "text": [
      "-2.0293650793650797\n"
     ]
    }
   ],
   "source": [
    "subdf = sdf[sdf['Round']==\"2nd Round\"]\n",
    "subdf = subdf.reset_index(drop=True)\n",
    "\n",
    "gain = 0\n",
    "for i in range(subdf.shape[0]):\n",
    "    if subdf['AvgW'][i]>subdf['AvgL'][i]:\n",
    "        gain = gain+10*(subdf['AvgW'][i]-1)\n",
    "    else:\n",
    "        gain = gain-10\n",
    "print(gain/subdf.shape[0])"
   ]
  },
  {
   "cell_type": "code",
   "execution_count": 20,
   "metadata": {},
   "outputs": [
    {
     "name": "stdout",
     "output_type": "stream",
     "text": [
      "-1.0811023622047244\n"
     ]
    }
   ],
   "source": [
    "subdf = sdf[sdf['Round']==\"3rd Round\"]\n",
    "subdf = subdf.reset_index(drop=True)\n",
    "\n",
    "gain = 0\n",
    "for i in range(subdf.shape[0]):\n",
    "    if subdf['AvgW'][i]>subdf['AvgL'][i]:\n",
    "        gain = gain+10*(subdf['AvgW'][i]-1)\n",
    "    else:\n",
    "        gain = gain-10\n",
    "print(gain/subdf.shape[0])"
   ]
  },
  {
   "cell_type": "code",
   "execution_count": 21,
   "metadata": {},
   "outputs": [
    {
     "name": "stdout",
     "output_type": "stream",
     "text": [
      "-0.8825396825396826\n"
     ]
    }
   ],
   "source": [
    "subdf = sdf[sdf['Round']==\"4th Round\"]\n",
    "subdf = subdf.reset_index(drop=True)\n",
    "\n",
    "gain = 0\n",
    "for i in range(subdf.shape[0]):\n",
    "    if subdf['AvgW'][i]>subdf['AvgL'][i]:\n",
    "        gain = gain+10*(subdf['AvgW'][i]-1)\n",
    "    else:\n",
    "        gain = gain-10\n",
    "print(gain/subdf.shape[0])"
   ]
  },
  {
   "cell_type": "code",
   "execution_count": 22,
   "metadata": {},
   "outputs": [
    {
     "name": "stdout",
     "output_type": "stream",
     "text": [
      "-3.7218750000000003\n"
     ]
    }
   ],
   "source": [
    "subdf = sdf[sdf['Round']==\"Quarterfinals\"]\n",
    "subdf = subdf.reset_index(drop=True)\n",
    "\n",
    "gain = 0\n",
    "for i in range(subdf.shape[0]):\n",
    "    if subdf['AvgW'][i]>subdf['AvgL'][i]:\n",
    "        gain = gain+10*(subdf['AvgW'][i]-1)\n",
    "    else:\n",
    "        gain = gain-10\n",
    "print(gain/subdf.shape[0])"
   ]
  },
  {
   "cell_type": "code",
   "execution_count": 23,
   "metadata": {},
   "outputs": [
    {
     "name": "stdout",
     "output_type": "stream",
     "text": [
      "-6.91875\n"
     ]
    }
   ],
   "source": [
    "subdf = sdf[sdf['Round']==\"Semifinals\"]\n",
    "subdf = subdf.reset_index(drop=True)\n",
    "\n",
    "gain = 0\n",
    "for i in range(subdf.shape[0]):\n",
    "    if subdf['AvgW'][i]>subdf['AvgL'][i]:\n",
    "        gain = gain+10*(subdf['AvgW'][i]-1)\n",
    "    else:\n",
    "        gain = gain-10\n",
    "print(gain/subdf.shape[0])"
   ]
  },
  {
   "cell_type": "code",
   "execution_count": 24,
   "metadata": {},
   "outputs": [
    {
     "name": "stdout",
     "output_type": "stream",
     "text": [
      "-3.0\n"
     ]
    }
   ],
   "source": [
    "subdf = sdf[sdf['Round']==\"The Final\"]\n",
    "subdf = subdf.reset_index(drop=True)\n",
    "\n",
    "gain = 0\n",
    "for i in range(subdf.shape[0]):\n",
    "    if subdf['AvgW'][i]>subdf['AvgL'][i]:\n",
    "        gain = gain+10*(subdf['AvgW'][i]-1)\n",
    "    else:\n",
    "        gain = gain-10\n",
    "print(gain/subdf.shape[0])"
   ]
  },
  {
   "cell_type": "code",
   "execution_count": 25,
   "metadata": {},
   "outputs": [
    {
     "data": {
      "image/png": "[encoded data removed]",
      "text/plain": [
       "<Figure size 432x288 with 1 Axes>"
      ]
     },
     "metadata": {
      "needs_background": "light"
     },
     "output_type": "display_data"
    }
   ],
   "source": [
    "# winning odds vs delta\n",
    "subdf = df[df['AvgW']<2]\n",
    "subdf = subdf[subdf['AvgL']<5]\n",
    "plt.scatter(subdf['AvgW']-subdf['AvgL'],subdf['AvgW'])\n",
    "#plt.scatter(subdf['AvgW'],subdf['AvgL'])\n",
    "plt.show()"
   ]
  },
  {
   "cell_type": "code",
   "execution_count": 26,
   "metadata": {},
   "outputs": [
    {
     "data": {
      "image/png": "[encoded data removed]",
      "text/plain": [
       "<Figure size 432x288 with 1 Axes>"
      ]
     },
     "metadata": {
      "needs_background": "light"
     },
     "output_type": "display_data"
    },
    {
     "data": {
      "image/png": "[encoded data removed]",
      "text/plain": [
       "<Figure size 432x288 with 1 Axes>"
      ]
     },
     "metadata": {
      "needs_background": "light"
     },
     "output_type": "display_data"
    },
    {
     "data": {
      "image/png": "[encoded data removed]",
      "text/plain": [
       "<Figure size 432x288 with 1 Axes>"
      ]
     },
     "metadata": {
      "needs_background": "light"
     },
     "output_type": "display_data"
    }
   ],
   "source": [
    "subdf = sdf[sdf['AvgW']<=50]\n",
    "plt.hist(subdf['AvgW'],bins=50,cumulative=True,density=True)\n",
    "plt.show()\n",
    "ok = subdf[subdf['AvgW']<subdf['AvgL']]\n",
    "plt.hist(ok['AvgW'],bins=50,cumulative=True,density=True)\n",
    "plt.show()\n",
    "nok = subdf[subdf['AvgW']>subdf['AvgL']]\n",
    "plt.hist(nok['AvgW'],bins=50,cumulative=True,density=True)\n",
    "plt.show()"
   ]
  },
  {
   "cell_type": "code",
   "execution_count": 27,
   "metadata": {},
   "outputs": [
    {
     "data": {
      "text/html": [
       "<div>\n",
       "<style scoped>\n",
       "    .dataframe tbody tr th:only-of-type {\n",
       "        vertical-align: middle;\n",
       "    }\n",
       "\n",
       "    .dataframe tbody tr th {\n",
       "        vertical-align: top;\n",
       "    }\n",
       "\n",
       "    .dataframe thead th {\n",
       "        text-align: right;\n",
       "    }\n",
       "</style>\n",
       "<table border=\"1\" class=\"dataframe\">\n",
       "  <thead>\n",
       "    <tr style=\"text-align: right;\">\n",
       "      <th></th>\n",
       "      <th>ATP</th>\n",
       "      <th>Best of</th>\n",
       "      <th>WRank</th>\n",
       "      <th>LRank</th>\n",
       "      <th>WPts</th>\n",
       "      <th>LPts</th>\n",
       "      <th>W1</th>\n",
       "      <th>L1</th>\n",
       "      <th>W2</th>\n",
       "      <th>L2</th>\n",
       "      <th>...</th>\n",
       "      <th>Lsets</th>\n",
       "      <th>B365W</th>\n",
       "      <th>B365L</th>\n",
       "      <th>PSW</th>\n",
       "      <th>PSL</th>\n",
       "      <th>MaxW</th>\n",
       "      <th>MaxL</th>\n",
       "      <th>AvgW</th>\n",
       "      <th>AvgL</th>\n",
       "      <th>DeltaRank</th>\n",
       "    </tr>\n",
       "  </thead>\n",
       "  <tbody>\n",
       "    <tr>\n",
       "      <th>count</th>\n",
       "      <td>760.000000</td>\n",
       "      <td>760.000000</td>\n",
       "      <td>760.000000</td>\n",
       "      <td>760.000000</td>\n",
       "      <td>760.000000</td>\n",
       "      <td>760.000000</td>\n",
       "      <td>756.000000</td>\n",
       "      <td>756.000000</td>\n",
       "      <td>755.000000</td>\n",
       "      <td>755.000000</td>\n",
       "      <td>...</td>\n",
       "      <td>756.000000</td>\n",
       "      <td>760.000000</td>\n",
       "      <td>760.000000</td>\n",
       "      <td>759.000000</td>\n",
       "      <td>759.000000</td>\n",
       "      <td>760.000000</td>\n",
       "      <td>760.000000</td>\n",
       "      <td>760.000000</td>\n",
       "      <td>760.000000</td>\n",
       "      <td>760.000000</td>\n",
       "    </tr>\n",
       "    <tr>\n",
       "      <th>mean</th>\n",
       "      <td>20.844737</td>\n",
       "      <td>4.997368</td>\n",
       "      <td>38.917105</td>\n",
       "      <td>95.821053</td>\n",
       "      <td>3276.534211</td>\n",
       "      <td>1051.043421</td>\n",
       "      <td>5.854497</td>\n",
       "      <td>4.005291</td>\n",
       "      <td>5.683444</td>\n",
       "      <td>3.821192</td>\n",
       "      <td>...</td>\n",
       "      <td>0.621693</td>\n",
       "      <td>1.297482</td>\n",
       "      <td>6.050500</td>\n",
       "      <td>1.318563</td>\n",
       "      <td>6.974638</td>\n",
       "      <td>1.348737</td>\n",
       "      <td>7.819342</td>\n",
       "      <td>1.297066</td>\n",
       "      <td>5.919237</td>\n",
       "      <td>-56.903947</td>\n",
       "    </tr>\n",
       "    <tr>\n",
       "      <th>std</th>\n",
       "      <td>15.265748</td>\n",
       "      <td>0.072548</td>\n",
       "      <td>45.205486</td>\n",
       "      <td>78.865687</td>\n",
       "      <td>3111.093735</td>\n",
       "      <td>1046.262860</td>\n",
       "      <td>1.097857</td>\n",
       "      <td>1.859281</td>\n",
       "      <td>1.247461</td>\n",
       "      <td>1.842924</td>\n",
       "      <td>...</td>\n",
       "      <td>0.743897</td>\n",
       "      <td>0.229044</td>\n",
       "      <td>5.409128</td>\n",
       "      <td>0.243690</td>\n",
       "      <td>6.646988</td>\n",
       "      <td>0.255216</td>\n",
       "      <td>8.214356</td>\n",
       "      <td>0.230813</td>\n",
       "      <td>4.750630</td>\n",
       "      <td>84.754050</td>\n",
       "    </tr>\n",
       "    <tr>\n",
       "      <th>min</th>\n",
       "      <td>4.000000</td>\n",
       "      <td>3.000000</td>\n",
       "      <td>1.000000</td>\n",
       "      <td>1.000000</td>\n",
       "      <td>95.000000</td>\n",
       "      <td>10.000000</td>\n",
       "      <td>1.000000</td>\n",
       "      <td>0.000000</td>\n",
       "      <td>0.000000</td>\n",
       "      <td>0.000000</td>\n",
       "      <td>...</td>\n",
       "      <td>0.000000</td>\n",
       "      <td>0.971000</td>\n",
       "      <td>1.900000</td>\n",
       "      <td>0.974000</td>\n",
       "      <td>1.860000</td>\n",
       "      <td>1.010000</td>\n",
       "      <td>2.000000</td>\n",
       "      <td>1.010000</td>\n",
       "      <td>1.920000</td>\n",
       "      <td>-971.000000</td>\n",
       "    </tr>\n",
       "    <tr>\n",
       "      <th>25%</th>\n",
       "      <td>5.000000</td>\n",
       "      <td>5.000000</td>\n",
       "      <td>8.000000</td>\n",
       "      <td>51.000000</td>\n",
       "      <td>1078.750000</td>\n",
       "      <td>582.000000</td>\n",
       "      <td>6.000000</td>\n",
       "      <td>3.000000</td>\n",
       "      <td>6.000000</td>\n",
       "      <td>2.000000</td>\n",
       "      <td>...</td>\n",
       "      <td>0.000000</td>\n",
       "      <td>1.110000</td>\n",
       "      <td>2.750000</td>\n",
       "      <td>1.120000</td>\n",
       "      <td>2.875000</td>\n",
       "      <td>1.140000</td>\n",
       "      <td>3.000000</td>\n",
       "      <td>1.100000</td>\n",
       "      <td>2.760000</td>\n",
       "      <td>-86.000000</td>\n",
       "    </tr>\n",
       "    <tr>\n",
       "      <th>50%</th>\n",
       "      <td>19.000000</td>\n",
       "      <td>5.000000</td>\n",
       "      <td>21.000000</td>\n",
       "      <td>83.000000</td>\n",
       "      <td>2060.000000</td>\n",
       "      <td>811.000000</td>\n",
       "      <td>6.000000</td>\n",
       "      <td>4.000000</td>\n",
       "      <td>6.000000</td>\n",
       "      <td>4.000000</td>\n",
       "      <td>...</td>\n",
       "      <td>0.000000</td>\n",
       "      <td>1.250000</td>\n",
       "      <td>4.000000</td>\n",
       "      <td>1.270000</td>\n",
       "      <td>4.260000</td>\n",
       "      <td>1.300000</td>\n",
       "      <td>4.500000</td>\n",
       "      <td>1.250000</td>\n",
       "      <td>4.010000</td>\n",
       "      <td>-46.000000</td>\n",
       "    </tr>\n",
       "    <tr>\n",
       "      <th>75%</th>\n",
       "      <td>30.000000</td>\n",
       "      <td>5.000000</td>\n",
       "      <td>56.000000</td>\n",
       "      <td>117.000000</td>\n",
       "      <td>4468.000000</td>\n",
       "      <td>1130.000000</td>\n",
       "      <td>6.000000</td>\n",
       "      <td>6.000000</td>\n",
       "      <td>6.000000</td>\n",
       "      <td>6.000000</td>\n",
       "      <td>...</td>\n",
       "      <td>1.000000</td>\n",
       "      <td>1.440000</td>\n",
       "      <td>6.500000</td>\n",
       "      <td>1.480000</td>\n",
       "      <td>7.725000</td>\n",
       "      <td>1.510000</td>\n",
       "      <td>8.125000</td>\n",
       "      <td>1.450000</td>\n",
       "      <td>6.932500</td>\n",
       "      <td>-15.750000</td>\n",
       "    </tr>\n",
       "    <tr>\n",
       "      <th>max</th>\n",
       "      <td>49.000000</td>\n",
       "      <td>5.000000</td>\n",
       "      <td>389.000000</td>\n",
       "      <td>1009.000000</td>\n",
       "      <td>12113.000000</td>\n",
       "      <td>11260.000000</td>\n",
       "      <td>7.000000</td>\n",
       "      <td>7.000000</td>\n",
       "      <td>7.000000</td>\n",
       "      <td>7.000000</td>\n",
       "      <td>...</td>\n",
       "      <td>2.000000</td>\n",
       "      <td>1.900000</td>\n",
       "      <td>34.000000</td>\n",
       "      <td>2.050000</td>\n",
       "      <td>37.070000</td>\n",
       "      <td>2.050000</td>\n",
       "      <td>67.000000</td>\n",
       "      <td>1.890000</td>\n",
       "      <td>25.700000</td>\n",
       "      <td>328.000000</td>\n",
       "    </tr>\n",
       "  </tbody>\n",
       "</table>\n",
       "<p>8 rows × 27 columns</p>\n",
       "</div>"
      ],
      "text/plain": [
       "              ATP     Best of       WRank        LRank          WPts  \\\n",
       "count  760.000000  760.000000  760.000000   760.000000    760.000000   \n",
       "mean    20.844737    4.997368   38.917105    95.821053   3276.534211   \n",
       "std     15.265748    0.072548   45.205486    78.865687   3111.093735   \n",
       "min      4.000000    3.000000    1.000000     1.000000     95.000000   \n",
       "25%      5.000000    5.000000    8.000000    51.000000   1078.750000   \n",
       "50%     19.000000    5.000000   21.000000    83.000000   2060.000000   \n",
       "75%     30.000000    5.000000   56.000000   117.000000   4468.000000   \n",
       "max     49.000000    5.000000  389.000000  1009.000000  12113.000000   \n",
       "\n",
       "               LPts          W1          L1          W2          L2  ...  \\\n",
       "count    760.000000  756.000000  756.000000  755.000000  755.000000  ...   \n",
       "mean    1051.043421    5.854497    4.005291    5.683444    3.821192  ...   \n",
       "std     1046.262860    1.097857    1.859281    1.247461    1.842924  ...   \n",
       "min       10.000000    1.000000    0.000000    0.000000    0.000000  ...   \n",
       "25%      582.000000    6.000000    3.000000    6.000000    2.000000  ...   \n",
       "50%      811.000000    6.000000    4.000000    6.000000    4.000000  ...   \n",
       "75%     1130.000000    6.000000    6.000000    6.000000    6.000000  ...   \n",
       "max    11260.000000    7.000000    7.000000    7.000000    7.000000  ...   \n",
       "\n",
       "            Lsets       B365W       B365L         PSW         PSL        MaxW  \\\n",
       "count  756.000000  760.000000  760.000000  759.000000  759.000000  760.000000   \n",
       "mean     0.621693    1.297482    6.050500    1.318563    6.974638    1.348737   \n",
       "std      0.743897    0.229044    5.409128    0.243690    6.646988    0.255216   \n",
       "min      0.000000    0.971000    1.900000    0.974000    1.860000    1.010000   \n",
       "25%      0.000000    1.110000    2.750000    1.120000    2.875000    1.140000   \n",
       "50%      0.000000    1.250000    4.000000    1.270000    4.260000    1.300000   \n",
       "75%      1.000000    1.440000    6.500000    1.480000    7.725000    1.510000   \n",
       "max      2.000000    1.900000   34.000000    2.050000   37.070000    2.050000   \n",
       "\n",
       "             MaxL        AvgW        AvgL   DeltaRank  \n",
       "count  760.000000  760.000000  760.000000  760.000000  \n",
       "mean     7.819342    1.297066    5.919237  -56.903947  \n",
       "std      8.214356    0.230813    4.750630   84.754050  \n",
       "min      2.000000    1.010000    1.920000 -971.000000  \n",
       "25%      3.000000    1.100000    2.760000  -86.000000  \n",
       "50%      4.500000    1.250000    4.010000  -46.000000  \n",
       "75%      8.125000    1.450000    6.932500  -15.750000  \n",
       "max     67.000000    1.890000   25.700000  328.000000  \n",
       "\n",
       "[8 rows x 27 columns]"
      ]
     },
     "execution_count": 27,
     "metadata": {},
     "output_type": "execute_result"
    }
   ],
   "source": [
    "ok.describe()"
   ]
  },
  {
   "cell_type": "code",
   "execution_count": 28,
   "metadata": {},
   "outputs": [
    {
     "data": {
      "image/png": "[encoded data removed]",
      "text/plain": [
       "<Figure size 432x288 with 1 Axes>"
      ]
     },
     "metadata": {
      "needs_background": "light"
     },
     "output_type": "display_data"
    },
    {
     "data": {
      "image/png": "[encoded data removed]",
      "text/plain": [
       "<Figure size 432x288 with 1 Axes>"
      ]
     },
     "metadata": {
      "needs_background": "light"
     },
     "output_type": "display_data"
    }
   ],
   "source": [
    "subdf = sdf[abs(sdf['WRank']-sdf['LRank'])<200]\n",
    "plt.scatter(subdf['DeltaRank'],subdf['AvgW'])\n",
    "plt.show()\n",
    "plt.scatter(subdf['WRank'],subdf['AvgW'])\n",
    "plt.show()"
   ]
  },
  {
   "cell_type": "code",
   "execution_count": 142,
   "metadata": {},
   "outputs": [],
   "source": [
    "subdf = sdf[sdf['Round']==\"1st Round\"]\n",
    "#subdf=sdf"
   ]
  },
  {
   "cell_type": "code",
   "execution_count": 143,
   "metadata": {},
   "outputs": [],
   "source": [
    "# check probability of losing against higher ranked (theoretically weaker) opponent depending on its own ranking\n",
    "ranks = [0,10,20,30,40,50,60,70,80,90,100,120,140,160,180,200,250,300]\n",
    "win = [0,0,0,0,0,0,0,0,0,0,0,0,0,0,0,0,0]\n",
    "loss = [0,0,0,0,0,0,0,0,0,0,0,0,0,0,0,0,0]\n",
    "labels = ['1-10','10-20','20-30','30-40','40-50','50-60','60-70','70-80','80-90','90-100','200-120','120-140','140-160','160-180','180-200','200-250','350-300']\n",
    "i=0\n",
    "for r in range(len(ranks)-1):\n",
    "    v = subdf.loc[((df['WRank']>ranks[r]) & (subdf['WRank']<=ranks[r+1]) & (subdf['LRank']>ranks[r]))].shape[0]\n",
    "    l = subdf.loc[((df['LRank']>ranks[r]) & (subdf['LRank']<=ranks[r+1]) & (subdf['WRank']>ranks[r]))].shape[0]\n",
    "    if v+l>0:\n",
    "        win[r]=v/(v+l)*100\n",
    "        loss[r]=l/(v+l)*100"
   ]
  },
  {
   "cell_type": "code",
   "execution_count": 144,
   "metadata": {},
   "outputs": [
    {
     "name": "stdout",
     "output_type": "stream",
     "text": [
      "[92.42424242424242, 77.77777777777779, 61.42857142857143, 57.57575757575758, 68.57142857142857, 67.44186046511628, 57.89473684210527, 62.857142857142854, 46.42857142857143, 53.84615384615385, 48.0, 46.15384615384615, 75.0, 100.0, 25.0, 50.0, 0]\n"
     ]
    },
    {
     "data": {
      "image/png": "[encoded data removed]",
      "text/plain": [
       "<Figure size 432x288 with 1 Axes>"
      ]
     },
     "metadata": {
      "needs_background": "light"
     },
     "output_type": "display_data"
    },
    {
     "data": {
      "image/png": "[encoded data removed]",
      "text/plain": [
       "<Figure size 432x288 with 1 Axes>"
      ]
     },
     "metadata": {
      "needs_background": "light"
     },
     "output_type": "display_data"
    }
   ],
   "source": [
    "plt.bar(labels,win)\n",
    "print(win)\n",
    "plt.show()\n",
    "plt.bar(labels,loss)\n",
    "plt.show()"
   ]
  },
  {
   "cell_type": "code",
   "execution_count": 59,
   "metadata": {},
   "outputs": [],
   "source": [
    "# check probability of losing against higher ranked (theoretically weaker) opponent depending on its own ranking - more than 50\n",
    "ranks = [0,10,20,30,40,50,60,70,80,90,100,120,140,160,180,200,250,300]\n",
    "win = [0,0,0,0,0,0,0,0,0,0,0,0,0,0,0,0,0]\n",
    "loss = [0,0,0,0,0,0,0,0,0,0,0,0,0,0,0,0,0]\n",
    "labels = ['1-10','10-20','20-30','30-40','40-50','50-60','60-70','70-80','80-90','90-100','200-120','120-140','140-160','160-180','180-200','200-250','350-300']\n",
    "i=0\n",
    "for r in range(len(ranks)-1):\n",
    "    v = subdf.loc[((subdf['WRank']>ranks[r]) & (subdf['WRank']<=ranks[r+1]) & (subdf['LRank']>ranks[r+1]+50))].shape[0]\n",
    "    l = subdf.loc[((subdf['LRank']>ranks[r]) & (subdf['LRank']<=ranks[r+1]) & (subdf['WRank']>ranks[r+1]+50))].shape[0]\n",
    "    if v+l>0:\n",
    "        win[r]=v/(v+l)*100\n",
    "        loss[r]=l/(v+l)*100"
   ]
  },
  {
   "cell_type": "code",
   "execution_count": 60,
   "metadata": {},
   "outputs": [
    {
     "data": {
      "image/png": "[encoded data removed]",
      "text/plain": [
       "<Figure size 432x288 with 1 Axes>"
      ]
     },
     "metadata": {
      "needs_background": "light"
     },
     "output_type": "display_data"
    },
    {
     "data": {
      "image/png": "[encoded data removed]",
      "text/plain": [
       "<Figure size 432x288 with 1 Axes>"
      ]
     },
     "metadata": {
      "needs_background": "light"
     },
     "output_type": "display_data"
    }
   ],
   "source": [
    "plt.bar(labels,win)\n",
    "plt.show()\n",
    "plt.bar(labels,loss)\n",
    "plt.show()"
   ]
  },
  {
   "cell_type": "code",
   "execution_count": 61,
   "metadata": {},
   "outputs": [],
   "source": [
    "# check probability of losing against higher ranked (theoretically weaker) opponent depending on its own ranking - more than 100\n",
    "ranks = [0,10,20,30,40,50,60,70,80,90,100,120,140,160,180,200,250,300]\n",
    "win = [0,0,0,0,0,0,0,0,0,0,0,0,0,0,0,0,0]\n",
    "loss = [0,0,0,0,0,0,0,0,0,0,0,0,0,0,0,0,0]\n",
    "labels = ['1-10','10-20','20-30','30-40','40-50','50-60','60-70','70-80','80-90','90-100','200-120','120-140','140-160','160-180','180-200','200-250','350-300']\n",
    "i=0\n",
    "for r in range(len(ranks)-1):\n",
    "    v = subdf.loc[((subdf['WRank']>ranks[r]) & (subdf['WRank']<=ranks[r+1]) & (subdf['LRank']>ranks[r+1]+100))].shape[0]\n",
    "    l = subdf.loc[((subdf['LRank']>ranks[r]) & (subdf['LRank']<=ranks[r+1]) & (subdf['WRank']>ranks[r+1]+100))].shape[0]\n",
    "    if v+l>0:\n",
    "        win[r]=v/(v+l)*100\n",
    "        loss[r]=l/(v+l)*100"
   ]
  },
  {
   "cell_type": "code",
   "execution_count": 62,
   "metadata": {},
   "outputs": [
    {
     "data": {
      "image/png": "[encoded data removed]",
      "text/plain": [
       "<Figure size 432x288 with 1 Axes>"
      ]
     },
     "metadata": {
      "needs_background": "light"
     },
     "output_type": "display_data"
    },
    {
     "data": {
      "image/png": "[encoded data removed]",
      "text/plain": [
       "<Figure size 432x288 with 1 Axes>"
      ]
     },
     "metadata": {
      "needs_background": "light"
     },
     "output_type": "display_data"
    }
   ],
   "source": [
    "plt.bar(labels,win)\n",
    "plt.show()\n",
    "plt.bar(labels,loss)\n",
    "plt.show()"
   ]
  },
  {
   "cell_type": "code",
   "execution_count": 190,
   "metadata": {},
   "outputs": [
    {
     "name": "stdout",
     "output_type": "stream",
     "text": [
      "win: 61  average odds: 1.085081967213115\n",
      "loss: 5  average odds: 5.388\n",
      "investment: 660  gain: 1.90000000000002  ROI: 0.2878787878787909\n",
      "win: 59  average odds: 1.0901694915254236\n",
      "loss: 1  average odds: 4.54\n",
      "investment: 600  gain: 43.20000000000002  ROI: 7.200000000000002\n",
      "win: 51  average odds: 1.2090196078431374\n",
      "loss: 10  average odds: 3.8389999999999995\n",
      "investment: 610  gain: 6.6000000000000085  ROI: 1.0819672131147555\n",
      "win: 37  average odds: 1.212162162162162\n",
      "loss: 11  average odds: 4.3563636363636355\n",
      "investment: 480  gain: -31.5  ROI: -6.5625\n",
      "win: 23  average odds: 1.2817391304347827\n",
      "loss: 5  average odds: 2.728\n",
      "investment: 280  gain: 14.800000000000011  ROI: 5.28571428571429\n",
      "win: 16  average odds: 1.444375\n",
      "loss: 0  average odds: nan\n",
      "investment: 160  gain: 71.09999999999998  ROI: 44.437499999999986\n",
      "win: 5  average odds: 1.394\n",
      "loss: 3  average odds: 2.4266666666666663\n",
      "investment: 80  gain: -10.299999999999997  ROI: -12.874999999999998\n"
     ]
    }
   ],
   "source": [
    "thr = 10 # threshold for players ranking - 10 means we consider top 10 players\n",
    "delta = 0 # delta is the ranking difference with the player's opponent - 0 means any player with higher ranking\n",
    "series = \"Grand Slam\" # the type of tournament we consider\n",
    "\n",
    "round = [\"1st Round\",\"2nd Round\",\"3rd Round\",\"4th Round\",\"Quarterfinals\",\"Semifinals\",\"The Final\"] \n",
    "gains = [0,0,0,0,0,0,0]\n",
    "gainspermatch = [0,0,0,0,0,0,0]\n",
    "roi = [0,0,0,0,0,0,0]\n",
    "k=0\n",
    "for r in round:\n",
    "    subdf = df.loc[((df['WRank']<=thr) & (df['LRank']>df['WRank']+delta) & (df['Series']==series) & (df['Round']==r))]\n",
    "    subdf = subdf.reset_index(drop=True)\n",
    "\n",
    "    gain = 0\n",
    "    nmatch = subdf.shape[0]\n",
    "    print(\"win:\",nmatch,\" average odds:\",subdf['AvgW'].mean())\n",
    "    for i in range(subdf.shape[0]):\n",
    "        gain = gain+10*(subdf['AvgW'][i]-1)\n",
    "\n",
    "    subdf = df.loc[((df['LRank']<=thr) & (df['WRank']>df['LRank']+delta) & (df['Series']==series) & (df['Round']==r))]\n",
    "    print(\"loss:\",subdf.shape[0],\" average odds:\",subdf['AvgW'].mean())\n",
    "    nmatch = nmatch+subdf.shape[0]\n",
    "    gain = gain-10*subdf.shape[0]\n",
    "    \n",
    "    gains[k] = gain\n",
    "    gainspermatch[k] = gain/nmatch\n",
    "    roi[k] = gain/(nmatch*10)*100\n",
    "    print(\"investment:\",nmatch*10,\" gain:\",gain,\" ROI:\",roi[k])\n",
    "    k=k+1"
   ]
  },
  {
   "cell_type": "code",
   "execution_count": 192,
   "metadata": {},
   "outputs": [
    {
     "data": {
      "image/png": "[encoded data removed]",
      "text/plain": [
       "<Figure size 720x432 with 1 Axes>"
      ]
     },
     "metadata": {
      "needs_background": "light"
     },
     "output_type": "display_data"
    },
    {
     "data": {
      "image/png": "[encoded data removed]",
      "text/plain": [
       "<Figure size 720x432 with 1 Axes>"
      ]
     },
     "metadata": {
      "needs_background": "light"
     },
     "output_type": "display_data"
    },
    {
     "data": {
      "image/png": "[encoded data removed]",
      "text/plain": [
       "<Figure size 720x432 with 1 Axes>"
      ]
     },
     "metadata": {
      "needs_background": "light"
     },
     "output_type": "display_data"
    }
   ],
   "source": [
    "plt.rcParams['figure.figsize'] = [10, 6]\n",
    "plt.bar(round,gains)\n",
    "plt.ylabel(\"Gains for 10$ bet on each game (GS, top 10 vs higher rank)\")\n",
    "plt.show()\n",
    "plt.bar(round,gainspermatch)\n",
    "plt.ylabel(\"Gains per match for 10$ bet on each game (GS, top 10 vs higher rank)\")\n",
    "plt.show()\n",
    "plt.bar(round,roi)\n",
    "plt.ylabel(\"Return on investment in % (GS, top 10 vs higher rank)\")\n",
    "plt.show()"
   ]
  },
  {
   "cell_type": "code",
   "execution_count": null,
   "metadata": {},
   "outputs": [],
   "source": []
  },
  {
   "cell_type": "code",
   "execution_count": null,
   "metadata": {},
   "outputs": [],
   "source": []
  }
 ],
 "metadata": {
  "kernelspec": {
   "display_name": "Python 3",
   "language": "python",
   "name": "python3"
  },
  "language_info": {
   "codemirror_mode": {
    "name": "ipython",
    "version": 3
   },
   "file_extension": ".py",
   "mimetype": "text/x-python",
   "name": "python",
   "nbconvert_exporter": "python",
   "pygments_lexer": "ipython3",
   "version": "3.9.2"
  }
 },
 "nbformat": 4,
 "nbformat_minor": 4
}
