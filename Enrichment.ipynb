{
 "cells": [
  {
   "cell_type": "markdown",
   "metadata": {},
   "source": [
    "# End of module project\n",
    "Part 2 bis - Enrichment\n",
    "\n",
    "Objective is to compute additional feature to use in simple model\n",
    "\n",
    "Uses the tennis matches results data between 2020 and 2022 from http://tennis-data.co.uk/alldata.php\n",
    "\n"
   ]
  },
  {
   "cell_type": "code",
   "execution_count": null,
   "metadata": {},
   "outputs": [],
   "source": [
    "import numpy as np\n",
    "import pandas as pd\n",
    "\n",
    "df = pd.read_csv('./2020-2022.csv')\n",
    "df.head()"
   ]
  },
  {
   "cell_type": "code",
   "execution_count": null,
   "metadata": {},
   "outputs": [],
   "source": [
    "# drop the lines where there are no data in AvgW, AvgL, WRank or LRank\n",
    "numels = df.shape[0]\n",
    "df = df.dropna(subset=['AvgW','AvgL','WRank','LRank'],axis=0)\n",
    "print('Drop NA on AvgW, AvgL, WRank, LRank: ',numels-df.shape[0],' rows dropped')\n",
    "\n",
    "# drop the lines where AvgW ou AvgL are dubious (more than 50% away from B365W / B365L)\n",
    "numels = df.shape[0]\n",
    "df = df.drop(df[df['AvgW']>1.5*df['B365W']].index,axis=0)\n",
    "df = df.drop(df[df['AvgL']>1.5*df['B365L']].index,axis=0)\n",
    "print('Drop dubious odds: ',numels-df.shape[0],' rows dropped')\n",
    "\n",
    "df = df.reset_index(drop=True)\n",
    "\n",
    "# compute delta rank (difference between winner and loser ranks)\n",
    "df['DeltaRank'] = df['WRank']-df['LRank']"
   ]
  },
  {
   "cell_type": "code",
   "execution_count": null,
   "metadata": {},
   "outputs": [],
   "source": [
    "# compute new columns\n",
    "subdf = df.copy()\n",
    "subdf['W10lastW'] = 0 # number of wins in 10 last matches for winner of match i\n",
    "subdf['W10lastL'] = 0 # number of wins in 10 last matches for loser of match i\n",
    "subdf['W5lastW'] = 0 # number of wins in 5 last matches for winner of match i\n",
    "subdf['W5lastL'] = 0 # number of wins in 5 last matches for loser of match i\n",
    "for i in range(subdf.shape[0]):\n",
    "    WW10 = 0 # winner of match i - numbers of wins in last 10 matches\n",
    "    WL10 = 0 # winner of match i - numbers of losses in last 10 matches\n",
    "    LW10 = 0 # loser of match i - numbers of wins in last 10 matches\n",
    "    LL10 = 0 # loser of match i - numbers of losses in last 10 matches\n",
    "    WW5 = 0 # winner of match i - numbers of wins in last 5 matches\n",
    "    WL5 = 0 # winner of match i - numbers of losses in last 5 matches\n",
    "    LW5 = 0 # loser of match i - numbers of wins in last 5 matches\n",
    "    LL5 = 0 # loser of match i - numbers of losses in last 5 matches\n",
    "    \n",
    "    for j in range(i-1):\n",
    "        if subdf['Winner'][i-j-1]==subdf['Winner'][i] and (WW10+WL10)<10:\n",
    "            WW10 = WW10+1\n",
    "        elif subdf['Loser'][i-j-1]==subdf['Winner'][i] and (WW10+WL10)<10:\n",
    "            WL10 = WL10+1\n",
    "        \n",
    "        if subdf['Winner'][i-j-1]==subdf['Loser'][i] and (LW10+LL10)<10:\n",
    "            LW10 = LW10+1\n",
    "        elif subdf['Loser'][i-j-1]==subdf['Loser'][i] and (LW10+LL10)<10:\n",
    "            LL10 = LL10+1\n",
    "            \n",
    "        if subdf['Winner'][i-j-1]==subdf['Winner'][i] and (WW5+WL5)<5:\n",
    "            WW5 = WW5+1\n",
    "        elif subdf['Loser'][i-j-1]==subdf['Winner'][i] and (WW5+WL5)<5:\n",
    "            WL5 = WL5+1\n",
    "        \n",
    "        if subdf['Winner'][i-j-1]==subdf['Loser'][i] and (LW5+LL5)<5:\n",
    "            LW5 = LW5+1\n",
    "        elif subdf['Loser'][i-j-1]==subdf['Loser'][i] and (LW5+LL5)<5:\n",
    "            LL5 = LL5+1\n",
    "            \n",
    "        if (WW+WL)==10 & (LW+LL)==10:\n",
    "            break           \n",
    "        \n",
    "    subdf.loc[i,'W10lastW'] = WW10\n",
    "    subdf.loc[i,'W5lastW'] = WW5\n",
    "    subdf.loc[i,'W10lastL'] = LW10\n",
    "    subdf.loc[i,'W5lastL'] = LW5\n",
    "    "
   ]
  },
  {
   "cell_type": "code",
   "execution_count": null,
   "metadata": {},
   "outputs": [],
   "source": [
    "# save the new dataframe\n",
    "subdf.to_csv('./2020-2022-enriched.csv')"
   ]
  }
 ],
 "metadata": {
  "kernelspec": {
   "display_name": "Python 3",
   "language": "python",
   "name": "python3"
  },
  "language_info": {
   "codemirror_mode": {
    "name": "ipython",
    "version": 3
   },
   "file_extension": ".py",
   "mimetype": "text/x-python",
   "name": "python",
   "nbconvert_exporter": "python",
   "pygments_lexer": "ipython3",
   "version": "3.6.3"
  }
 },
 "nbformat": 4,
 "nbformat_minor": 2
}
