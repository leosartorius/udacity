{
 "cells": [
  {
   "cell_type": "markdown",
   "metadata": {},
   "source": [
    "# End of module project\n",
    "PART 2 - Simple prediction model test\n",
    "\n",
    "Objective is to try and have a simple odds prediction model\n",
    "\n",
    "Uses the tennis matches results data between 2020 and 2022 from http://tennis-data.co.uk/alldata.php"
   ]
  },
  {
   "cell_type": "code",
   "execution_count": 1,
   "metadata": {},
   "outputs": [],
   "source": [
    "# do the imports\n",
    "import numpy as np\n",
    "import pandas as pd\n",
    "import matplotlib.pyplot as plt\n",
    "from sklearn.linear_model import LinearRegression\n",
    "from sklearn.model_selection import train_test_split\n",
    "from sklearn.ensemble import RandomForestRegressor\n",
    "from sklearn.metrics import r2_score, mean_squared_error\n",
    "from sklearn.pipeline import make_pipeline\n",
    "from sklearn.preprocessing import StandardScaler\n",
    "%matplotlib inline"
   ]
  },
  {
   "cell_type": "code",
   "execution_count": 2,
   "metadata": {},
   "outputs": [
    {
     "data": {
      "text/html": [
       "<div>\n",
       "<style scoped>\n",
       "    .dataframe tbody tr th:only-of-type {\n",
       "        vertical-align: middle;\n",
       "    }\n",
       "\n",
       "    .dataframe tbody tr th {\n",
       "        vertical-align: top;\n",
       "    }\n",
       "\n",
       "    .dataframe thead th {\n",
       "        text-align: right;\n",
       "    }\n",
       "</style>\n",
       "<table border=\"1\" class=\"dataframe\">\n",
       "  <thead>\n",
       "    <tr style=\"text-align: right;\">\n",
       "      <th></th>\n",
       "      <th>ATP</th>\n",
       "      <th>Location</th>\n",
       "      <th>Tournament</th>\n",
       "      <th>Date</th>\n",
       "      <th>Series</th>\n",
       "      <th>Court</th>\n",
       "      <th>Surface</th>\n",
       "      <th>Round</th>\n",
       "      <th>Best of</th>\n",
       "      <th>Winner</th>\n",
       "      <th>...</th>\n",
       "      <th>Lsets</th>\n",
       "      <th>Comment</th>\n",
       "      <th>B365W</th>\n",
       "      <th>B365L</th>\n",
       "      <th>PSW</th>\n",
       "      <th>PSL</th>\n",
       "      <th>MaxW</th>\n",
       "      <th>MaxL</th>\n",
       "      <th>AvgW</th>\n",
       "      <th>AvgL</th>\n",
       "    </tr>\n",
       "  </thead>\n",
       "  <tbody>\n",
       "    <tr>\n",
       "      <th>0</th>\n",
       "      <td>1</td>\n",
       "      <td>Doha</td>\n",
       "      <td>Qatar Exxon Mobil Open</td>\n",
       "      <td>1/6/2020</td>\n",
       "      <td>ATP250</td>\n",
       "      <td>Outdoor</td>\n",
       "      <td>Hard</td>\n",
       "      <td>1st Round</td>\n",
       "      <td>3</td>\n",
       "      <td>Bublik A.</td>\n",
       "      <td>...</td>\n",
       "      <td>0.0</td>\n",
       "      <td>Completed</td>\n",
       "      <td>2.00</td>\n",
       "      <td>1.72</td>\n",
       "      <td>2.21</td>\n",
       "      <td>1.74</td>\n",
       "      <td>2.25</td>\n",
       "      <td>1.80</td>\n",
       "      <td>2.11</td>\n",
       "      <td>1.72</td>\n",
       "    </tr>\n",
       "    <tr>\n",
       "      <th>1</th>\n",
       "      <td>1</td>\n",
       "      <td>Doha</td>\n",
       "      <td>Qatar Exxon Mobil Open</td>\n",
       "      <td>1/6/2020</td>\n",
       "      <td>ATP250</td>\n",
       "      <td>Outdoor</td>\n",
       "      <td>Hard</td>\n",
       "      <td>1st Round</td>\n",
       "      <td>3</td>\n",
       "      <td>Moutet C.</td>\n",
       "      <td>...</td>\n",
       "      <td>0.0</td>\n",
       "      <td>Completed</td>\n",
       "      <td>1.57</td>\n",
       "      <td>2.25</td>\n",
       "      <td>1.60</td>\n",
       "      <td>2.47</td>\n",
       "      <td>1.65</td>\n",
       "      <td>2.47</td>\n",
       "      <td>1.59</td>\n",
       "      <td>2.34</td>\n",
       "    </tr>\n",
       "    <tr>\n",
       "      <th>2</th>\n",
       "      <td>1</td>\n",
       "      <td>Doha</td>\n",
       "      <td>Qatar Exxon Mobil Open</td>\n",
       "      <td>1/6/2020</td>\n",
       "      <td>ATP250</td>\n",
       "      <td>Outdoor</td>\n",
       "      <td>Hard</td>\n",
       "      <td>1st Round</td>\n",
       "      <td>3</td>\n",
       "      <td>Verdasco F.</td>\n",
       "      <td>...</td>\n",
       "      <td>0.0</td>\n",
       "      <td>Completed</td>\n",
       "      <td>1.25</td>\n",
       "      <td>3.75</td>\n",
       "      <td>1.31</td>\n",
       "      <td>3.74</td>\n",
       "      <td>1.33</td>\n",
       "      <td>3.85</td>\n",
       "      <td>1.29</td>\n",
       "      <td>3.53</td>\n",
       "    </tr>\n",
       "    <tr>\n",
       "      <th>3</th>\n",
       "      <td>1</td>\n",
       "      <td>Doha</td>\n",
       "      <td>Qatar Exxon Mobil Open</td>\n",
       "      <td>1/6/2020</td>\n",
       "      <td>ATP250</td>\n",
       "      <td>Outdoor</td>\n",
       "      <td>Hard</td>\n",
       "      <td>1st Round</td>\n",
       "      <td>3</td>\n",
       "      <td>Bedene A.</td>\n",
       "      <td>...</td>\n",
       "      <td>1.0</td>\n",
       "      <td>Completed</td>\n",
       "      <td>1.83</td>\n",
       "      <td>1.83</td>\n",
       "      <td>1.97</td>\n",
       "      <td>1.92</td>\n",
       "      <td>2.00</td>\n",
       "      <td>2.07</td>\n",
       "      <td>1.87</td>\n",
       "      <td>1.92</td>\n",
       "    </tr>\n",
       "    <tr>\n",
       "      <th>4</th>\n",
       "      <td>1</td>\n",
       "      <td>Doha</td>\n",
       "      <td>Qatar Exxon Mobil Open</td>\n",
       "      <td>1/6/2020</td>\n",
       "      <td>ATP250</td>\n",
       "      <td>Outdoor</td>\n",
       "      <td>Hard</td>\n",
       "      <td>1st Round</td>\n",
       "      <td>3</td>\n",
       "      <td>Chardy J.</td>\n",
       "      <td>...</td>\n",
       "      <td>1.0</td>\n",
       "      <td>Completed</td>\n",
       "      <td>1.50</td>\n",
       "      <td>2.50</td>\n",
       "      <td>1.54</td>\n",
       "      <td>2.62</td>\n",
       "      <td>1.57</td>\n",
       "      <td>2.65</td>\n",
       "      <td>1.53</td>\n",
       "      <td>2.47</td>\n",
       "    </tr>\n",
       "  </tbody>\n",
       "</table>\n",
       "<p>5 rows × 36 columns</p>\n",
       "</div>"
      ],
      "text/plain": [
       "   ATP Location              Tournament      Date  Series    Court Surface  \\\n",
       "0    1     Doha  Qatar Exxon Mobil Open  1/6/2020  ATP250  Outdoor    Hard   \n",
       "1    1     Doha  Qatar Exxon Mobil Open  1/6/2020  ATP250  Outdoor    Hard   \n",
       "2    1     Doha  Qatar Exxon Mobil Open  1/6/2020  ATP250  Outdoor    Hard   \n",
       "3    1     Doha  Qatar Exxon Mobil Open  1/6/2020  ATP250  Outdoor    Hard   \n",
       "4    1     Doha  Qatar Exxon Mobil Open  1/6/2020  ATP250  Outdoor    Hard   \n",
       "\n",
       "       Round  Best of       Winner  ... Lsets    Comment  B365W  B365L   PSW  \\\n",
       "0  1st Round        3    Bublik A.  ...   0.0  Completed   2.00   1.72  2.21   \n",
       "1  1st Round        3    Moutet C.  ...   0.0  Completed   1.57   2.25  1.60   \n",
       "2  1st Round        3  Verdasco F.  ...   0.0  Completed   1.25   3.75  1.31   \n",
       "3  1st Round        3    Bedene A.  ...   1.0  Completed   1.83   1.83  1.97   \n",
       "4  1st Round        3    Chardy J.  ...   1.0  Completed   1.50   2.50  1.54   \n",
       "\n",
       "    PSL  MaxW  MaxL  AvgW  AvgL  \n",
       "0  1.74  2.25  1.80  2.11  1.72  \n",
       "1  2.47  1.65  2.47  1.59  2.34  \n",
       "2  3.74  1.33  3.85  1.29  3.53  \n",
       "3  1.92  2.00  2.07  1.87  1.92  \n",
       "4  2.62  1.57  2.65  1.53  2.47  \n",
       "\n",
       "[5 rows x 36 columns]"
      ]
     },
     "execution_count": 2,
     "metadata": {},
     "output_type": "execute_result"
    }
   ],
   "source": [
    "# read data file\n",
    "df = pd.read_csv('./2020-2022.csv')\n",
    "df.head()"
   ]
  },
  {
   "cell_type": "code",
   "execution_count": 3,
   "metadata": {},
   "outputs": [
    {
     "name": "stdout",
     "output_type": "stream",
     "text": [
      "Drop NA on AvgW, AvgL, WRank, LRank:  15  rows dropped\n",
      "Drop dubious odds:  10  rows dropped\n"
     ]
    }
   ],
   "source": [
    "# drop the lines where there are no data in AvgW, AvgL, WRank or LRank\n",
    "numels = df.shape[0]\n",
    "df = df.dropna(subset=['AvgW','AvgL','WRank','LRank'],axis=0)\n",
    "print('Drop NA on AvgW, AvgL, WRank, LRank: ',numels-df.shape[0],' rows dropped')\n",
    "\n",
    "# drop the lines where AvgW ou AvgL are dubious (more than 50% away from B365W / B365L)\n",
    "numels = df.shape[0]\n",
    "df = df.drop(df[df['AvgW']>1.5*df['B365W']].index,axis=0)\n",
    "df = df.drop(df[df['AvgL']>1.5*df['B365L']].index,axis=0)\n",
    "print('Drop dubious odds: ',numels-df.shape[0],' rows dropped')\n",
    "\n",
    "df = df.reset_index(drop=True)\n",
    "\n",
    "# compute delta rank (difference between winner and loser ranks)\n",
    "df['DeltaRank'] = df['WRank']-df['LRank']"
   ]
  },
  {
   "cell_type": "markdown",
   "metadata": {},
   "source": [
    "Testing Linear Regression model based on rankings only (obviously too simple, but for the sake of trying)"
   ]
  },
  {
   "cell_type": "code",
   "execution_count": 4,
   "metadata": {},
   "outputs": [
    {
     "data": {
      "text/plain": [
       "'The r-squared score for the model was 0.16855913029838987 on train set and 0.15597613719945858 on test set.'"
      ]
     },
     "execution_count": 4,
     "metadata": {},
     "output_type": "execute_result"
    }
   ],
   "source": [
    "# try and build model just based on rankings\n",
    "subdf = df[['WRank','LRank','AvgW']]\n",
    "\n",
    "# r2 only at 0.17 / 0.16 on train and test data\n",
    "# select only matches where AvgW was <4 -> 0.22 / 0.24\n",
    "# select only matches where AvgW was <3 -> 0.26 / 0.17\n",
    "# select only matches where AvgW was <2 -> 0.18 / 0.21\n",
    "#subdf = subdf[subdf['AvgW']<2]\n",
    "\n",
    "X = subdf[['WRank','LRank']]\n",
    "y = subdf['AvgW']\n",
    "\n",
    "X_train, X_test, y_train, y_test = train_test_split(X, y, test_size = .30, random_state=2)\n",
    "\n",
    "#Instantiate\n",
    "#lm_model = LinearRegression(normalize=True) \n",
    "lm_model = make_pipeline(StandardScaler(with_mean=False), LinearRegression()) # deprecation of Normalize=True\n",
    "#lm_model = RandomForestRegressor(max_depth=5, random_state=0)\n",
    "\n",
    "\n",
    "#Fit\n",
    "lm_model.fit(X_train, y_train)\n",
    "\n",
    "#Predict\n",
    "y_test_preds = lm_model.predict(X_test) \n",
    "y_train_preds = lm_model.predict(X_train) \n",
    "\n",
    "\"The r-squared score for the model was {} on train set and {} on test set.\".format(r2_score(y_train, y_train_preds), r2_score(y_test, y_test_preds))\n",
    "\n"
   ]
  },
  {
   "cell_type": "code",
   "execution_count": 5,
   "metadata": {},
   "outputs": [
    {
     "data": {
      "image/png": "[encoded data removed]",
      "text/plain": [
       "<Figure size 432x288 with 1 Axes>"
      ]
     },
     "metadata": {
      "needs_background": "light"
     },
     "output_type": "display_data"
    }
   ],
   "source": [
    "# show data\n",
    "plt.scatter(y_test, y_test_preds, color = 'blue',label='Test data')\n",
    "plt.plot(y_train, y_train, color = 'red')\n",
    "plt.xlabel(\"Actual odds\")\n",
    "plt.ylabel(\"Prediction\")\n",
    "plt.legend()\n",
    "plt.show()"
   ]
  }
 ],
 "metadata": {
  "interpreter": {
   "hash": "b89b5cfaba6639976dc87ff2fec6d58faec662063367e2c229c520fe71072417"
  },
  "kernelspec": {
   "display_name": "Python 3.10.3 64-bit (system)",
   "language": "python",
   "name": "python3"
  },
  "language_info": {
   "codemirror_mode": {
    "name": "ipython",
    "version": 3
   },
   "file_extension": ".py",
   "mimetype": "text/x-python",
   "name": "python",
   "nbconvert_exporter": "python",
   "pygments_lexer": "ipython3",
   "version": "3.10.3"
  },
  "orig_nbformat": 4
 },
 "nbformat": 4,
 "nbformat_minor": 2
}
